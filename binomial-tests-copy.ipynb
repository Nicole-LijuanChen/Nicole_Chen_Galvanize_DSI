{
 "cells": [
  {
   "cell_type": "markdown",
   "metadata": {},
   "source": [
    "# Binomial Tests of Hypothesies"
   ]
  },
  {
   "cell_type": "code",
   "execution_count": 2,
   "metadata": {},
   "outputs": [],
   "source": [
    "%matplotlib inline\n",
    "\n",
    "import numpy as np\n",
    "import matplotlib.pyplot as plt\n",
    "import scipy.stats as stats\n",
    "\n",
    "\n",
    "plt.style.use('ggplot')"
   ]
  },
  {
   "cell_type": "markdown",
   "metadata": {},
   "source": [
    "## Objectives\n",
    "#### The difference between probility and statistics\n",
    "    In probability we know the parameters of a distribution. We can We can use these properties to predict the probability of an event.\n",
    "    In statistics we just have data , and we would like to infer properties of its distribution.\n",
    "#### Process of Hypothesis Testing\n",
    "    Step 1: State the Null Hypothesis\n",
    "    Step 2: State the Alternative Hypothesis\n",
    "    Step 3: Set 𝛼\n",
    "    Step 4: Collect Data\n",
    "    Step 5: Calculate a test statistic(p-value).\n",
    "    Step 6: Construct Acceptance / Rejection regions\n",
    "    Step 7: Based on steps 5 and 6, draw a conclusion about H0\n",
    "#### What is p-value?\n",
    "    The P value is the probability you see a result at least as extreme as the sample result randomly when you assumed your null hypothesis is true.\n",
    "    "
   ]
  },
  {
   "cell_type": "markdown",
   "metadata": {},
   "source": [
    "## Probability vs. Statistics"
   ]
  },
  {
   "cell_type": "markdown",
   "metadata": {},
   "source": [
    "Probability and Statistics are closely related subjects, but there is a fundamental difference."
   ]
  },
  {
   "cell_type": "markdown",
   "metadata": {},
   "source": [
    "### Probability"
   ]
  },
  {
   "cell_type": "markdown",
   "metadata": {},
   "source": [
    "In **probability** we *know* the parameters of a distribution (associated with some random variable), and we would like to study properties of data generated from that distribution."
   ]
  },
  {
   "cell_type": "markdown",
   "metadata": {},
   "source": [
    "Example properties of random variables are:\n",
    "\n",
    "The **expectation** of a random variable is defined by:\n",
    "\n",
    "$$ E[X] = \\int_{- \\infty}^{\\infty} t \\\n",
    "f_{X}(t) dt $$\n",
    "\n",
    "and the **variance** is defined by\n",
    "\n",
    "$$ V[X] = E \\left[ (X - E[X])^2 \\right] $$\n",
    "\n",
    "If you *know* the parameters of the distribution, then you can *compute* the mean and variance."
   ]
  },
  {
   "cell_type": "markdown",
   "metadata": {},
   "source": [
    "### Statistics"
   ]
  },
  {
   "cell_type": "markdown",
   "metadata": {},
   "source": [
    "In **statistics** we have data generated from a random variable, and we would like to *infer* properties of its distribution.\n",
    "\n",
    "A few points are evident:\n",
    "\n",
    "  - Independent and identically distributed data are important, as they allow us to pool information using data all generated from *indistinguishable* random variables.\n",
    "  - We can never know *exactly* the distribution that generated the data, we can only hope to approximate it.\n",
    "  - We *may* be able to quantify the uncertainty in our approximation (this is what much of classical statistics is about)."
   ]
  },
  {
   "cell_type": "markdown",
   "metadata": {},
   "source": [
    "**Question**: Statistics, in its early days, was called **inverse probability**.  Can you see why?"
   ]
  },
  {
   "cell_type": "markdown",
   "metadata": {},
   "source": [
    "## Example: Fisher's Tea Experiment"
   ]
  },
  {
   "cell_type": "markdown",
   "metadata": {},
   "source": [
    "[Ronald Fisher](https://en.wikipedia.org/wiki/Ronald_Fisher)'s friend [Muriel Bristol](https://en.wikipedia.org/wiki/Muriel_Bristol) claims that she can tell, by actually drinking the beverage, whether milk was poured in first or second into a cup of tea.  I.e. tea into the milk, or milk into the tea.\n",
    "\n",
    "Fisher, being an upstanding skeptic, is skeptical, so devises an experiment to test her claim."
   ]
  },
  {
   "cell_type": "markdown",
   "metadata": {},
   "source": [
    "**Discussion:** How could we determine whether Muriel is telling the truth?"
   ]
  },
  {
   "cell_type": "markdown",
   "metadata": {},
   "source": [
    "Fisher's solution is as follows.  He prepares six cups of tea, three with tea first and three with milk first. These cups are then given to Muriel arranged in a random order.\n",
    "\n",
    "**Note:** For simplicity, I'll assume in my version that Muriel does *not know* that there are three of each. In the original experiment, she does know.\n",
    "\n",
    "He has Muriel drink each beverage, and attempt to guess if tea or milk were poured first.  Her results are as follows\n",
    "\n",
    "| Cup | Result    |\n",
    "|----:|----------:|\n",
    "| 1   | Correct   |\n",
    "| 2   | Correct   |\n",
    "| 3   | Correct   |\n",
    "| 4   | Incorrect |\n",
    "| 5   | Correct   |\n",
    "| 6   | Correct   |"
   ]
  },
  {
   "cell_type": "markdown",
   "metadata": {},
   "source": [
    "Fisher, remember, is a skeptic.  He is predisposed to **not** believe Muriel.  So he makes the skeptical hypothesis:\n",
    "\n",
    "> Fisher's Hypothesis: Muriel has *no* ability to tell milk into tea from tea into milk.  Therefore, each of her answers is completely random.\n",
    "\n",
    "Fisher now asks himself an important question:\n",
    "\n",
    "> Given that my hypothesis is correct, **how surprising is this data?**"
   ]
  },
  {
   "cell_type": "markdown",
   "metadata": {},
   "source": [
    "Let's take Fisher's hypothesis seriously.  If he is correct, what should we expect the data we observe to look like?\n",
    "\n",
    "Well, under this hypothesis, the chances of Muriel getting any single cup correctly is $0.5$.   That is, if Fisher is correct, the data we observed would be generated by a simple sequence of coin flips."
   ]
  },
  {
   "cell_type": "code",
   "execution_count": 2,
   "metadata": {},
   "outputs": [
    {
     "data": {
      "image/png": "[encoded data removed]",
      "text/plain": [
       "<Figure size 1152x288 with 4 Axes>"
      ]
     },
     "metadata": {
      "needs_background": "light"
     },
     "output_type": "display_data"
    }
   ],
   "source": [
    "bernoulli = stats.bernoulli(p=0.5)\n",
    "\n",
    "fig, axs = plt.subplots(4, 1, figsize=(16, 4))\n",
    "for i, ax in enumerate(axs.flatten()):\n",
    "    results = bernoulli.rvs(6)\n",
    "    ax.scatter(range(1, 7), results, s=45)\n",
    "    ax.set_yticks([0, 1])\n",
    "    ax.set_yticklabels([\"Correct\", \"Incorrect\"])\n",
    "    ax.set_xticks(())"
   ]
  },
  {
   "cell_type": "markdown",
   "metadata": {},
   "source": [
    "Instead of considering the specific sequence of correct or incorrect answers, it seems more natural to consider the **number** of correct and incorrect answers.\n",
    "\n",
    "**Question:** What is the distribution of the number of correct answers by Muriel under Fisher's hypothesis?"
   ]
  },
  {
   "cell_type": "markdown",
   "metadata": {},
   "source": [
    "If Fisher is correct, and Muriel's answers are totally random, then the distribution of the number of cups Muriel gets correct is a Binomial distribution\n",
    "\n",
    "$$\\text{# of cups guessed correctly} \\sim \\text{Binomial} (n=6, p=0.5)$$"
   ]
  },
  {
   "cell_type": "code",
   "execution_count": 3,
   "metadata": {},
   "outputs": [
    {
     "data": {
      "image/png": "[encoded data removed]",
      "text/plain": [
       "<Figure size 720x288 with 1 Axes>"
      ]
     },
     "metadata": {
      "needs_background": "light"
     },
     "output_type": "display_data"
    }
   ],
   "source": [
    "binomial = stats.binom(n=6, p=0.5)\n",
    "\n",
    "fig, ax = plt.subplots(1, figsize=(10, 4))\n",
    "_ = ax.bar(range(7), [binomial.pmf(i) for i in range(7)], color=\"grey\")"
   ]
  },
  {
   "cell_type": "markdown",
   "metadata": {},
   "source": [
    "Muriel guessing all but one correctly seems like an extremely surprising event given this assumption.  We can characterize our **degree of surprise in the data given our assumption** by calculating the following probability:\n",
    "\n",
    "$$ P(\\text{Observing this Data} \\mid \\text{Fisher's Assumption})$$"
   ]
  },
  {
   "cell_type": "markdown",
   "metadata": {},
   "source": [
    "In our example, we can actually calculate this probability exactly from the binomial distribution."
   ]
  },
  {
   "cell_type": "markdown",
   "metadata": {},
   "source": [
    "$$ P(\\text{Observing this Data} \\mid \\text{Fisher's Assumption}) = {{6}\\choose{5}} 0.5^6 $$"
   ]
  },
  {
   "cell_type": "code",
   "execution_count": 4,
   "metadata": {},
   "outputs": [
    {
     "data": {
      "image/png": "[encoded data removed]",
      "text/plain": [
       "<Figure size 720x288 with 1 Axes>"
      ]
     },
     "metadata": {
      "needs_background": "light"
     },
     "output_type": "display_data"
    }
   ],
   "source": [
    "bernoulli = stats.binom(n=6, p=0.5)\n",
    "\n",
    "fig, ax = plt.subplots(1, figsize=(10, 4))\n",
    "bars = ax.bar(range(7), [bernoulli.pmf(i) for i in range(7)], align=\"center\", color=\"grey\")\n",
    "bars[5].set_color('red')"
   ]
  },
  {
   "cell_type": "markdown",
   "metadata": {},
   "source": [
    "Fisher observed that, in fact, he would have been surprised if he had observed this data **or any data even more extreme than this**, so a more correct measure of surprise would be\n",
    "\n",
    "$$ P(\\text{Observing Data As Or More Extreme} \\mid \\text{Fisher's Assumption}) = {{6}\\choose{5}} 0.5^6 +{{6}\\choose{6}} 0.5^6  $$"
   ]
  },
  {
   "cell_type": "code",
   "execution_count": 5,
   "metadata": {
    "scrolled": true
   },
   "outputs": [
    {
     "data": {
      "image/png": "[encoded data removed]",
      "text/plain": [
       "<Figure size 720x288 with 1 Axes>"
      ]
     },
     "metadata": {
      "needs_background": "light"
     },
     "output_type": "display_data"
    }
   ],
   "source": [
    "binomial = stats.binom(n=6, p=0.5)\n",
    "\n",
    "fig, ax = plt.subplots(1, figsize=(10, 4))\n",
    "bars = ax.bar(range(7), [binomial.pmf(i) for i in range(7)], align=\"center\", color=\"grey\")\n",
    "bars[5].set_color('red')\n",
    "bars[6].set_color('red')"
   ]
  },
  {
   "cell_type": "markdown",
   "metadata": {},
   "source": [
    "We can calculate this number easily in python."
   ]
  },
  {
   "cell_type": "code",
   "execution_count": 6,
   "metadata": {},
   "outputs": [
    {
     "name": "stdout",
     "output_type": "stream",
     "text": [
      "Probability of Observing Data More Equal or More Extreme than Actual: 0.11\n"
     ]
    }
   ],
   "source": [
    "binomial = stats.binom(n=6, p=0.5)\n",
    "\n",
    "# CDF gives P(draw <= value)\n",
    "prob_equal_or_more_extreme = 1 - binomial.cdf(4)\n",
    "print(\"Probability of Observing Data More Equal or More Extreme than Actual: {:2.2}\".format(\n",
    "    prob_equal_or_more_extreme))"
   ]
  },
  {
   "cell_type": "markdown",
   "metadata": {},
   "source": [
    "We now have a different sort of problem, how do we *interpret* this level of suprise?  Are we suprised of not?"
   ]
  },
  {
   "cell_type": "markdown",
   "metadata": {},
   "source": [
    "**Vote:** Do you believe Muriel given this evidence?"
   ]
  },
  {
   "cell_type": "markdown",
   "metadata": {},
   "source": [
    "## Hypothesis Testing: The Big Picture"
   ]
  },
  {
   "cell_type": "markdown",
   "metadata": {},
   "source": [
    "The tea example was reported in Fisher's classic text *The Design of Experiments*, and it is a prototypical example of the logic behind Hypothesis testing.\n",
    "\n",
    "\n",
    "\n"
   ]
  },
  {
   "cell_type": "markdown",
   "metadata": {},
   "source": [
    "### State a scientific question.\n",
    "\n",
    "State a scientific question (a yes/no question) of interest that can be answered with data that you have collected or intend to collect.\n",
    "\n",
    "In Fisher's tea experiment the scientific question is \n",
    "\n",
    "> Can Muriel identify milk into tea from tea into milk?"
   ]
  },
  {
   "cell_type": "markdown",
   "metadata": {},
   "source": [
    "### Take a skeptical stance, and clearly state this hypothesis.\n",
    "\n",
    "The skeptic's stance is called the **null hypothesis**.\n",
    "\n",
    "In Fisher's experiment, the null hypothesis is \n",
    "\n",
    "> Muriel cannot tell the difference, and hence is guessing at random."
   ]
  },
  {
   "cell_type": "markdown",
   "metadata": {},
   "source": [
    "### State the opposite of your skeptical hypothesis.\n",
    "\n",
    "The opposite of the null hypothesis is called the **alternate hypothesis**.  It **must** be the exact opposite of the null, so that the null and the alternate cover *all* possibilities.\n",
    "\n",
    "Our alternative hypothesis in the Tea case is:\n",
    "\n",
    "> Muriel is not guessing randomly.\n",
    "\n",
    "**Note:** This covers two cases!  On one hand, Muriel *could* be better than chance, but Muriel could also be worse!  We will discuss how to deal with this possible issue shortly."
   ]
  },
  {
   "cell_type": "markdown",
   "metadata": {},
   "source": [
    "### Define a *test statistic* to measure the how surprising our results are.\n",
    "\n",
    "The **test statistic** is a single variable, a function of our results, that we can use to measure how extreme our results are. In this case the obvious single variable is\n",
    "\n",
    "$$\\text{# of cups guessed correctly}$$\n",
    "\n",
    "Although that is true for many simple cases, for others the it is not obvious."
   ]
  },
  {
   "cell_type": "markdown",
   "metadata": {},
   "source": [
    "### Create a probabilistic model of the situation assuming the null hypothesis is true."
   ]
  },
  {
   "cell_type": "markdown",
   "metadata": {},
   "source": [
    "The null hypothesis generally states that some process is governed by only chance, so conceptualize exactly how the data is being generated probabilistically.\n",
    "\n",
    "In Fisher's example, our probabilistic model is\n",
    "\n",
    "$$\\text{# of cups guessed correctly} \\mid \\text{Muriel is guessing randomly}\\sim \\text{Binomial}(n=6, p=0.5)$$"
   ]
  },
  {
   "cell_type": "markdown",
   "metadata": {},
   "source": [
    "### Decide how surprised you need to be to reject your skeptical assumption."
   ]
  },
  {
   "cell_type": "markdown",
   "metadata": {},
   "source": [
    "Before looking at any data, set a threshold for you skepticism, which is traditionally labeled $\\alpha$.  This threshold can be based on many considerations.\n",
    "\n",
    "We neglected to do this in our tea example.\n",
    "\n",
    "**Note:** It is a common practice to set a threshold of $\\alpha = 0.05$ with no thought of reflection.  This is a source of much consternation in statistical circles, and you should not do so without reflection."
   ]
  },
  {
   "cell_type": "markdown",
   "metadata": {},
   "source": [
    "### Collect your data."
   ]
  },
  {
   "cell_type": "markdown",
   "metadata": {},
   "source": [
    "![Big Data](images/bigdata.jpg)"
   ]
  },
  {
   "cell_type": "markdown",
   "metadata": {},
   "source": [
    "### Calculate the probability of finding a result equally or more extreme than actually observed assuming the null hypothesis is true."
   ]
  },
  {
   "cell_type": "markdown",
   "metadata": {},
   "source": [
    "This calculated conditional probability is called the **p-value**.\n",
    "\n",
    "In Fisher's example, the calculated p-value is:\n",
    "\n",
    "$$ P(\\text{Observing Data As Or More Extreme} \\mid \\text{Null Hypothesis}) = {{6}\\choose{5}} 0.5^6 + {{6}\\choose{6}} 0.5^6  $$"
   ]
  },
  {
   "cell_type": "markdown",
   "metadata": {},
   "source": [
    "### Compare the p-value to your stated rejection threshold."
   ]
  },
  {
   "cell_type": "markdown",
   "metadata": {},
   "source": [
    "If the p-value is smaller than your rejection threshold, you must reject your null hypothesis as **inconsistent with the data you collected**.\n",
    "\n",
    "That is, you have demonstrated, to your stated tolerance, that your skeptical stance is unlikely to be true.\n",
    "\n",
    "A useful way to think of this is:\n",
    "\n",
    "  - **Skeptical Stance**: I will act as if my skeptics stance is true.\n",
    "  - **Alternate Stance**: I will act as if my skeptics stance is not true.\n",
    "  \n",
    "In the case that your computed p-value is smaller than your stated threshold, you must act as if the skeptic's hypothesis is **not true** (though, of course, it may very well be and you just got unlucky)."
   ]
  },
  {
   "cell_type": "markdown",
   "metadata": {},
   "source": [
    "### Publish your data and code online with explicit instructions for replicating your result."
   ]
  },
  {
   "cell_type": "markdown",
   "metadata": {},
   "source": [
    "![Github Cats](images/github-cats.jpg)"
   ]
  },
  {
   "cell_type": "markdown",
   "metadata": {},
   "source": [
    "### Comments"
   ]
  },
  {
   "cell_type": "markdown",
   "metadata": {},
   "source": [
    "If you happen to *not* find sufficient evidence to reject your null hypothesis, **you have not proven that your null hypothesis is true**.\n",
    "\n",
    "Indeed, the entire procedure was predicated on **assuming** the null was true **until sufficient evidence is found to make this stance untenable**.  If you do not reject the null, you simply continue to hold this skeptic's stance until more evidence comes along and you need to re-evaluate."
   ]
  },
  {
   "cell_type": "markdown",
   "metadata": {},
   "source": [
    "## One-sample exact test of population proportion"
   ]
  },
  {
   "cell_type": "markdown",
   "metadata": {},
   "source": [
    "This kind of test, where we are studying how many times something happens and the null distribution is binomial, is called a **one-sample exact test of a population proportion**.\n",
    "\n",
    "Let's do another example to get reps on the idea."
   ]
  },
  {
   "cell_type": "markdown",
   "metadata": {},
   "source": [
    "### Setup\n",
    "\n",
    "Matt is all about consistency in skateboarding, and is learning to Kickflip.  He does not want to move onto another trick until he can cleanly land a Kickflip $80\\%$ of the time.\n",
    "\n",
    "Being a scientist, he is skeptical of himself, and assumes the following hypothesis until he can prove otherwise:\n",
    "\n",
    "> Null Hypothesis: $P(\\text{I Land a Kickflip}) < 0.8$\n",
    "\n",
    "On a particularly uneventful Saturday, Matt keeps track of $100$ kickflip attempts (after properly warming up and stretching of course, Matt is 36).  He does quite well, and lands $84$ of them.\n",
    "\n",
    "**Question:** Should Matt move on to another trick?"
   ]
  },
  {
   "cell_type": "markdown",
   "metadata": {},
   "source": [
    "### Define a *test statistic* to measure the how surprising our results are."
   ]
  },
  {
   "cell_type": "markdown",
   "metadata": {},
   "source": [
    "The test statistic in this case is the number of kickflips Matt manages to land. It's a single number that expresses what we are trying to measure."
   ]
  },
  {
   "cell_type": "markdown",
   "metadata": {},
   "source": [
    "### Create a probabilistic model of the situation assuming the null hypothesis is true."
   ]
  },
  {
   "cell_type": "markdown",
   "metadata": {},
   "source": [
    "We would like to create a probabilistic model of my Kickflip ability under the null hypothesis that\n",
    "\n",
    "> Null Hypothesis: $P(\\text{I Land a Kickflip}) \\leq 0.8$\n",
    "\n",
    "But this is kind of hard, because I don't have a single probability to rely on.  But consider my intent, to **be as skeptical as possible**.  If I base my model on, say, a probability of $0.5$, then it is **easier to collect data that is inconsistent with this probability**.  So, given my setup, I should use the probability that allows me to be **most skeptical**.  \n",
    "\n",
    "If I assume that:\n",
    "\n",
    "> Null Hypothesis': $P(\\text{I Land a Kickflip}) = 0.8$\n",
    "\n",
    "This allows me to be **maximally skeptical**.  It is **most difficult** to reject the null if I use a probability of $0.8$."
   ]
  },
  {
   "cell_type": "markdown",
   "metadata": {},
   "source": [
    "What I really want now is to know the probability I land $k$ out of $100$ kickflips.  To get there, I need to make one additional assumption: that each kickflip is independent of the rest.  This allows me to come up with a full probabilistic model under the Null:\n",
    "\n",
    "$$ \\text{# of kickflips landed } \\mid \\text{ Null Hypothesis} \\sim \\text{Binomial}(n=100, p=0.8) $$"
   ]
  },
  {
   "cell_type": "code",
   "execution_count": 7,
   "metadata": {},
   "outputs": [
    {
     "data": {
      "text/plain": [
       "Text(0.5, 1.0, '# of Kickflips Landed Under The Null Hypothesis')"
      ]
     },
     "execution_count": 7,
     "metadata": {},
     "output_type": "execute_result"
    },
    {
     "data": {
      "image/png": "[encoded data removed]",
      "text/plain": [
       "<Figure size 1152x288 with 1 Axes>"
      ]
     },
     "metadata": {
      "needs_background": "light"
     },
     "output_type": "display_data"
    }
   ],
   "source": [
    "binomial = stats.binom(100, 0.8)\n",
    "\n",
    "fig, ax = plt.subplots(1, figsize=(16, 4))\n",
    "bars = ax.bar(range(101), [binomial.pmf(i) for i in range(101)], align=\"center\", color=\"grey\")\n",
    "ax.set_xlim(0, 101)\n",
    "ax.set_title(\"# of Kickflips Landed Under The Null Hypothesis\")"
   ]
  },
  {
   "cell_type": "markdown",
   "metadata": {},
   "source": [
    "### Decide how surprised you need to be to reject your skeptical assumption\n",
    "\n",
    "Rejecting the null hypothesis here incorrectly is not particularly harmful, as it just means I get to start working on another trick without being super confident in my kickflips.  So I'll set my rejection threshold rather high, let's take \n",
    "\n",
    "$$ \\alpha = 0.2 $$"
   ]
  },
  {
   "cell_type": "markdown",
   "metadata": {},
   "source": [
    "### Collect your data."
   ]
  },
  {
   "cell_type": "markdown",
   "metadata": {},
   "source": [
    "![Kickflip](images/kickflip.jpg)"
   ]
  },
  {
   "cell_type": "markdown",
   "metadata": {},
   "source": [
    "Matt landed 84 of 100 kickflips. Note that we should have done all the earlier steps before gathering data."
   ]
  },
  {
   "cell_type": "markdown",
   "metadata": {},
   "source": [
    "### Calculate the probability of finding a result equally or more extreme than actually observed assuming the probabilistic model you created."
   ]
  },
  {
   "cell_type": "markdown",
   "metadata": {},
   "source": [
    "This is almost the same calculation as the tea example."
   ]
  },
  {
   "cell_type": "code",
   "execution_count": 8,
   "metadata": {},
   "outputs": [
    {
     "data": {
      "image/png": "[encoded data removed]",
      "text/plain": [
       "<Figure size 1152x288 with 1 Axes>"
      ]
     },
     "metadata": {
      "needs_background": "light"
     },
     "output_type": "display_data"
    }
   ],
   "source": [
    "fig, ax = plt.subplots(1, figsize=(16, 4))\n",
    "bars = ax.bar(range(101), [binomial.pmf(i) for i in range(101)], color=\"grey\", align=\"center\")\n",
    "ax.set_xlim(0, 101)\n",
    "\n",
    "for i in range(84, 101):\n",
    "    bars[i].set_color('red')\n",
    "    \n",
    "_ = ax.set_title(\"P-value Reigon\")"
   ]
  },
  {
   "cell_type": "code",
   "execution_count": 9,
   "metadata": {},
   "outputs": [
    {
     "name": "stdout",
     "output_type": "stream",
     "text": [
      "Probability of Observing Data More Equal or More Extreme than Actual: 0.19\n"
     ]
    }
   ],
   "source": [
    "prob_equal_or_more_extreme = 1 - binomial.cdf(83)\n",
    "print(\"Probability of Observing Data More Equal or More Extreme than Actual: {:2.2}\".format(\n",
    "    prob_equal_or_more_extreme))"
   ]
  },
  {
   "cell_type": "markdown",
   "metadata": {},
   "source": [
    "### Compare the p-value to your stated rejection threshold.\n",
    "\n",
    "We decided to reject at a threshold of $\\alpha = 0.2$.  Since our p-value is less than this threshold, I can now work on some new tricks!"
   ]
  },
  {
   "cell_type": "markdown",
   "metadata": {},
   "source": [
    "**Exercise**: Redo the example with a sample size of 250 kickflips, in which he 210 of them landed (this is the same *proportion* of lands).  How does the p-value change?"
   ]
  },
  {
   "cell_type": "code",
   "execution_count": 4,
   "metadata": {},
   "outputs": [
    {
     "name": "stdout",
     "output_type": "stream",
     "text": [
      "p_value is: 0.06368363842355484\n"
     ]
    }
   ],
   "source": [
    "\n",
    "binomial2 = stats.binom(250, 0.8)\n",
    "p_vaule2 =1-binomial2.cdf(209)\n",
    "print(f\"p_value is: {p_vaule2}\")"
   ]
  },
  {
   "cell_type": "code",
   "execution_count": null,
   "metadata": {},
   "outputs": [],
   "source": []
  }
 ],
 "metadata": {
  "kernelspec": {
   "display_name": "Python 3",
   "language": "python",
   "name": "python3"
  },
  "language_info": {
   "codemirror_mode": {
    "name": "ipython",
    "version": 3
   },
   "file_extension": ".py",
   "mimetype": "text/x-python",
   "name": "python",
   "nbconvert_exporter": "python",
   "pygments_lexer": "ipython3",
   "version": "3.7.6"
  }
 },
 "nbformat": 4,
 "nbformat_minor": 4
}
