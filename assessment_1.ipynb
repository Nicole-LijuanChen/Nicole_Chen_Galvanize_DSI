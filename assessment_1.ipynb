{
 "cells": [
  {
   "cell_type": "code",
   "execution_count": 1,
   "metadata": {},
   "outputs": [
    {
     "name": "stdout",
     "output_type": "stream",
     "text": [
      "Nicole_100-pandas-puzzles.ipynb   assessment_1.ipynb\r\n",
      "Nicole_100_Numpy_exercises.ipynb  rent.csv\r\n",
      "README.md\r\n"
     ]
    }
   ],
   "source": [
    "ls"
   ]
  },
  {
   "cell_type": "code",
   "execution_count": 2,
   "metadata": {},
   "outputs": [],
   "source": [
    "import numpy as np\n",
    "import pandas as pd"
   ]
  },
  {
   "cell_type": "markdown",
   "metadata": {},
   "source": [
    "### Python 1"
   ]
  },
  {
   "cell_type": "code",
   "execution_count": 47,
   "metadata": {},
   "outputs": [],
   "source": [
    "def max_lists(list1, list2):\n",
    "    '''Compares the elements of list1, and list2 (assumed to be the same\n",
    "    length),and returns the maximum value between the two, for each element.\n",
    "\n",
    "    Parameters\n",
    "    ----------\n",
    "    list1, list2: list, list\n",
    "        (Of the same length)\n",
    "\n",
    "    Returns\n",
    "    -------\n",
    "    list\n",
    "    '''\n",
    "    list3 =[]\n",
    "    for a,b in zip(list1, list2):\n",
    "        if a>=b:\n",
    "            list3.append(a)\n",
    "        else:\n",
    "            list3.append(b)\n",
    "    return list3"
   ]
  },
  {
   "cell_type": "code",
   "execution_count": 48,
   "metadata": {},
   "outputs": [
    {
     "name": "stdout",
     "output_type": "stream",
     "text": [
      "[5, 4, 7, 8, 9]\n"
     ]
    }
   ],
   "source": [
    "list1 = [5,4,3,2,1]\n",
    "list2 = [4,2,7,8,9]\n",
    "print(max_lists(list1, list2))"
   ]
  },
  {
   "cell_type": "code",
   "execution_count": 49,
   "metadata": {},
   "outputs": [
    {
     "name": "stdout",
     "output_type": "stream",
     "text": [
      "[5, 4, 7, 8, 9]\n"
     ]
    }
   ],
   "source": [
    "#another solution\n",
    "output = [max(i1, i2) for i1, i2 in zip(list1, list2)]\n",
    "print(output)"
   ]
  },
  {
   "cell_type": "markdown",
   "metadata": {},
   "source": [
    "### Python 2"
   ]
  },
  {
   "cell_type": "code",
   "execution_count": 55,
   "metadata": {},
   "outputs": [],
   "source": [
    "def get_diagonal(mat):\n",
    "    '''Given a matrix encoded as a 2 dimensional python list (i.e. a list of\n",
    "    uniform length lists), returns a list containing all the values along the\n",
    "    diagonal starting at the index 0, 0. (Assumes that the matrix is nonempty.)\n",
    "\n",
    "    Parameters\n",
    "    ----------\n",
    "    mat: list of lists\n",
    "\n",
    "    Returns\n",
    "    -------\n",
    "    list\n",
    "\n",
    "    Example\n",
    "    -------\n",
    "    >>> mat = [[1, 2], [3, 4], [5, 6]]\n",
    "    >>> get_diagonal(mat)\n",
    "    [1, 4]\n",
    "    '''\n",
    "    mat =np.array(mat)\n",
    "    return list(mat.diagonal())"
   ]
  },
  {
   "cell_type": "code",
   "execution_count": 56,
   "metadata": {},
   "outputs": [
    {
     "name": "stdout",
     "output_type": "stream",
     "text": [
      "[1, 4]\n"
     ]
    }
   ],
   "source": [
    "mat = [[1, 2], [3, 4], [5, 6]]\n",
    "print(get_diagonal(mat))"
   ]
  },
  {
   "cell_type": "code",
   "execution_count": 57,
   "metadata": {},
   "outputs": [
    {
     "name": "stdout",
     "output_type": "stream",
     "text": [
      "[1, 4]\n"
     ]
    }
   ],
   "source": [
    "#another solution\n",
    "print([mat[i][i] for i in range(min(len(mat), len(mat[0])))])"
   ]
  },
  {
   "cell_type": "code",
   "execution_count": 62,
   "metadata": {},
   "outputs": [
    {
     "name": "stdout",
     "output_type": "stream",
     "text": [
      "[[1 2 3 4]\n",
      " [3 4 5 6]\n",
      " [5 6 7 8]] \n",
      "\n",
      "[1, 4, 7] \n",
      "\n",
      "[1, 4, 7]\n"
     ]
    }
   ],
   "source": [
    "# test\n",
    "mat2 =  [[1, 2, 3, 4], [3, 4, 5,6], [5, 6, 7,8]]\n",
    "print(np.array(mat2),'\\n')\n",
    "print(get_diagonal(mat2),'\\n')\n",
    "print([mat2[i][i] for i in range(min(len(mat2), len(mat2[0])))])\n",
    "\n"
   ]
  },
  {
   "cell_type": "markdown",
   "metadata": {},
   "source": [
    "### Python 3"
   ]
  },
  {
   "cell_type": "code",
   "execution_count": 64,
   "metadata": {},
   "outputs": [],
   "source": [
    "def merge_dictionaries(d1, d2):\n",
    "    '''\n",
    "    INPUT: dictionary, dictionary\n",
    "    OUTPUT: dictionary\n",
    "\n",
    "    Return a new dictionary which contains all the keys from d1 and d2 with\n",
    "    their associated values. If a key is in both dictionaries, the value should\n",
    "    be the sum of the two values.\n",
    "    '''\n",
    "    d = d1.copy()\n",
    "    for key, value in d2.items():\n",
    "        d[key] = d.get(key, 0) + value\n",
    "    return d"
   ]
  },
  {
   "cell_type": "code",
   "execution_count": 65,
   "metadata": {},
   "outputs": [
    {
     "name": "stdout",
     "output_type": "stream",
     "text": [
      "{'a': 1, 'b': 4, 'c': 6, 'd': 1}\n"
     ]
    }
   ],
   "source": [
    "d1 = {'a':1, 'b':2, 'c':3}\n",
    "d2 = {'d':1, 'b':2, 'c':3}\n",
    "print(merge_dictionaries(d1, d2))"
   ]
  },
  {
   "cell_type": "code",
   "execution_count": 70,
   "metadata": {},
   "outputs": [
    {
     "name": "stdout",
     "output_type": "stream",
     "text": [
      "0\n",
      "None\n"
     ]
    }
   ],
   "source": [
    "#test get function\n",
    "print(d1.get('d',0))\n",
    "print(d1.get('d'))"
   ]
  },
  {
   "cell_type": "markdown",
   "metadata": {},
   "source": [
    "### Python/Linear Algebra\n"
   ]
  },
  {
   "cell_type": "code",
   "execution_count": 82,
   "metadata": {},
   "outputs": [],
   "source": [
    "def matrix_multiplication(A, B):\n",
    "    '''Return the matrix which is the product of matrix A and matrix B\n",
    "    where A and B will be (a) integer valued (b) square matrices\n",
    "    (c) of size n-by-n (d) encoded as lists of lists,  e.g.\n",
    "    A = [[2, 3, 4], [6, 4, 2], [-1, 2, 0]] corresponds to the matrix\n",
    "    | 2  3  4 |\n",
    "    | 6  4  2 |\n",
    "    |-1  2  0 |\n",
    "\n",
    "    YOU MAY NOT USE NUMPY. Write your solution in straight python.\n",
    "\n",
    "    Parameters\n",
    "    ----------\n",
    "    a, b: list of lists of integers, list of lists integers\n",
    "        All inner/outer lists are of length n, so as to construct square\n",
    "        matrices.\n",
    "\n",
    "    Returns\n",
    "    -------\n",
    "    list of lists of integers\n",
    "        The product of a matrix multiplication operation.\n",
    "    '''\n",
    "    n = len(A)\n",
    "    result = []\n",
    "    # iterate over the rows of A\n",
    "    for i in range(n):\n",
    "        row = []\n",
    "        # iterate over the columns of B\n",
    "        for j in range(n):\n",
    "            total = 0\n",
    "            # iterate ith row of A with jth column of B dot product\n",
    "            for k in range(n):\n",
    "                # k implements [ith row][jth column] element-wise dot product\n",
    "                total += A[i][k] * B[k][j]\n",
    "            # column j of row i\n",
    "            row.append(total)\n",
    "        # all columns j of row i completed\n",
    "        result.append(row)\n",
    "    # all rows done\n",
    "    return result\n",
    "\n"
   ]
  },
  {
   "cell_type": "code",
   "execution_count": 85,
   "metadata": {},
   "outputs": [
    {
     "name": "stdout",
     "output_type": "stream",
     "text": [
      "A:\n",
      " [[ 2  3  4]\n",
      " [ 6  4  2]\n",
      " [-1  2  0]] \n",
      "\n",
      "B:\n",
      " [[ 4  3  4]\n",
      " [ 6  4  2]\n",
      " [-1  2  0]] \n",
      "\n",
      "A product b:\n",
      " [[22 26 14]\n",
      " [46 38 32]\n",
      " [ 8  5  0]] \n",
      "\n",
      "call function:\n",
      " [[22, 26, 14], [46, 38, 32], [8, 5, 0]]\n"
     ]
    }
   ],
   "source": [
    "A = [[2, 3, 4], [6, 4, 2], [-1, 2, 0]]\n",
    "B = [[4, 3, 4], [6, 4, 2], [-1, 2, 0]]\n",
    "ma=np.array(A)\n",
    "mb=np.array(B)\n",
    "print(\"A:\\n\",ma,'\\n')\n",
    "print(\"B:\\n\",mb,'\\n')\n",
    "print(\"A product b:\\n\",ma.dot(mb),'\\n')\n",
    "print(\"call function:\\n\", matrix_multiplication(A, B))"
   ]
  },
  {
   "cell_type": "code",
   "execution_count": null,
   "metadata": {},
   "outputs": [],
   "source": []
  },
  {
   "cell_type": "code",
   "execution_count": null,
   "metadata": {},
   "outputs": [],
   "source": []
  },
  {
   "cell_type": "code",
   "execution_count": null,
   "metadata": {},
   "outputs": [],
   "source": []
  },
  {
   "cell_type": "markdown",
   "metadata": {},
   "source": [
    "### Pandas Challenges1"
   ]
  },
  {
   "cell_type": "code",
   "execution_count": 5,
   "metadata": {},
   "outputs": [
    {
     "data": {
      "text/html": [
       "<div>\n",
       "<style scoped>\n",
       "    .dataframe tbody tr th:only-of-type {\n",
       "        vertical-align: middle;\n",
       "    }\n",
       "\n",
       "    .dataframe tbody tr th {\n",
       "        vertical-align: top;\n",
       "    }\n",
       "\n",
       "    .dataframe thead th {\n",
       "        text-align: right;\n",
       "    }\n",
       "</style>\n",
       "<table border=\"1\" class=\"dataframe\">\n",
       "  <thead>\n",
       "    <tr style=\"text-align: right;\">\n",
       "      <th></th>\n",
       "      <th>Neighborhood</th>\n",
       "      <th>City</th>\n",
       "      <th>State</th>\n",
       "      <th>med_2011</th>\n",
       "      <th>med_2014</th>\n",
       "    </tr>\n",
       "  </thead>\n",
       "  <tbody>\n",
       "    <tr>\n",
       "      <th>0</th>\n",
       "      <td>Northeast Dallas</td>\n",
       "      <td>Dallas</td>\n",
       "      <td>TX</td>\n",
       "      <td>825.0</td>\n",
       "      <td>985.0</td>\n",
       "    </tr>\n",
       "    <tr>\n",
       "      <th>1</th>\n",
       "      <td>Paradise</td>\n",
       "      <td>Las Vegas</td>\n",
       "      <td>NV</td>\n",
       "      <td>900.0</td>\n",
       "      <td>1100.0</td>\n",
       "    </tr>\n",
       "    <tr>\n",
       "      <th>2</th>\n",
       "      <td>Maryvale</td>\n",
       "      <td>Phoenix</td>\n",
       "      <td>AZ</td>\n",
       "      <td>795.0</td>\n",
       "      <td>850.0</td>\n",
       "    </tr>\n",
       "    <tr>\n",
       "      <th>3</th>\n",
       "      <td>Upper West Side</td>\n",
       "      <td>New York</td>\n",
       "      <td>NY</td>\n",
       "      <td>2795.0</td>\n",
       "      <td>3300.0</td>\n",
       "    </tr>\n",
       "    <tr>\n",
       "      <th>4</th>\n",
       "      <td>South Los Angeles</td>\n",
       "      <td>Los Angeles</td>\n",
       "      <td>CA</td>\n",
       "      <td>1150.0</td>\n",
       "      <td>1400.0</td>\n",
       "    </tr>\n",
       "    <tr>\n",
       "      <th>5</th>\n",
       "      <td>Sherman Oaks</td>\n",
       "      <td>Los Angeles</td>\n",
       "      <td>CA</td>\n",
       "      <td>1399.0</td>\n",
       "      <td>1450.0</td>\n",
       "    </tr>\n",
       "    <tr>\n",
       "      <th>6</th>\n",
       "      <td>Upper East Side</td>\n",
       "      <td>New York</td>\n",
       "      <td>NY</td>\n",
       "      <td>2250.0</td>\n",
       "      <td>2700.0</td>\n",
       "    </tr>\n",
       "    <tr>\n",
       "      <th>7</th>\n",
       "      <td>Sunrise Manor</td>\n",
       "      <td>Las Vegas</td>\n",
       "      <td>NV</td>\n",
       "      <td>800.0</td>\n",
       "      <td>895.0</td>\n",
       "    </tr>\n",
       "    <tr>\n",
       "      <th>8</th>\n",
       "      <td>East New York</td>\n",
       "      <td>New York</td>\n",
       "      <td>NY</td>\n",
       "      <td>1350.0</td>\n",
       "      <td>1500.0</td>\n",
       "    </tr>\n",
       "    <tr>\n",
       "      <th>9</th>\n",
       "      <td>Southeast Los Angeles</td>\n",
       "      <td>Los Angeles</td>\n",
       "      <td>CA</td>\n",
       "      <td>1200.0</td>\n",
       "      <td>1300.0</td>\n",
       "    </tr>\n",
       "  </tbody>\n",
       "</table>\n",
       "</div>"
      ],
      "text/plain": [
       "            Neighborhood         City State  med_2011  med_2014\n",
       "0       Northeast Dallas       Dallas    TX     825.0     985.0\n",
       "1               Paradise    Las Vegas    NV     900.0    1100.0\n",
       "2               Maryvale      Phoenix    AZ     795.0     850.0\n",
       "3        Upper West Side     New York    NY    2795.0    3300.0\n",
       "4      South Los Angeles  Los Angeles    CA    1150.0    1400.0\n",
       "5           Sherman Oaks  Los Angeles    CA    1399.0    1450.0\n",
       "6        Upper East Side     New York    NY    2250.0    2700.0\n",
       "7          Sunrise Manor    Las Vegas    NV     800.0     895.0\n",
       "8          East New York     New York    NY    1350.0    1500.0\n",
       "9  Southeast Los Angeles  Los Angeles    CA    1200.0    1300.0"
      ]
     },
     "execution_count": 5,
     "metadata": {},
     "output_type": "execute_result"
    }
   ],
   "source": [
    "df = pd.read_csv('rent.csv')\n",
    "df.head(10)"
   ]
  },
  {
   "cell_type": "code",
   "execution_count": 11,
   "metadata": {},
   "outputs": [],
   "source": [
    "def pandas_add_increase_column(df):\n",
    "    df['Increase'] = df['med_2014'] -df['med_2011']\n",
    "    \n",
    "    "
   ]
  },
  {
   "cell_type": "code",
   "execution_count": 17,
   "metadata": {},
   "outputs": [
    {
     "data": {
      "text/html": [
       "<div>\n",
       "<style scoped>\n",
       "    .dataframe tbody tr th:only-of-type {\n",
       "        vertical-align: middle;\n",
       "    }\n",
       "\n",
       "    .dataframe tbody tr th {\n",
       "        vertical-align: top;\n",
       "    }\n",
       "\n",
       "    .dataframe thead th {\n",
       "        text-align: right;\n",
       "    }\n",
       "</style>\n",
       "<table border=\"1\" class=\"dataframe\">\n",
       "  <thead>\n",
       "    <tr style=\"text-align: right;\">\n",
       "      <th></th>\n",
       "      <th>Neighborhood</th>\n",
       "      <th>City</th>\n",
       "      <th>State</th>\n",
       "      <th>med_2011</th>\n",
       "      <th>med_2014</th>\n",
       "      <th>Increase</th>\n",
       "    </tr>\n",
       "  </thead>\n",
       "  <tbody>\n",
       "    <tr>\n",
       "      <th>0</th>\n",
       "      <td>Northeast Dallas</td>\n",
       "      <td>Dallas</td>\n",
       "      <td>TX</td>\n",
       "      <td>825.0</td>\n",
       "      <td>985.0</td>\n",
       "      <td>160.0</td>\n",
       "    </tr>\n",
       "    <tr>\n",
       "      <th>1</th>\n",
       "      <td>Paradise</td>\n",
       "      <td>Las Vegas</td>\n",
       "      <td>NV</td>\n",
       "      <td>900.0</td>\n",
       "      <td>1100.0</td>\n",
       "      <td>200.0</td>\n",
       "    </tr>\n",
       "    <tr>\n",
       "      <th>2</th>\n",
       "      <td>Maryvale</td>\n",
       "      <td>Phoenix</td>\n",
       "      <td>AZ</td>\n",
       "      <td>795.0</td>\n",
       "      <td>850.0</td>\n",
       "      <td>55.0</td>\n",
       "    </tr>\n",
       "    <tr>\n",
       "      <th>3</th>\n",
       "      <td>Upper West Side</td>\n",
       "      <td>New York</td>\n",
       "      <td>NY</td>\n",
       "      <td>2795.0</td>\n",
       "      <td>3300.0</td>\n",
       "      <td>505.0</td>\n",
       "    </tr>\n",
       "    <tr>\n",
       "      <th>4</th>\n",
       "      <td>South Los Angeles</td>\n",
       "      <td>Los Angeles</td>\n",
       "      <td>CA</td>\n",
       "      <td>1150.0</td>\n",
       "      <td>1400.0</td>\n",
       "      <td>250.0</td>\n",
       "    </tr>\n",
       "    <tr>\n",
       "      <th>5</th>\n",
       "      <td>Sherman Oaks</td>\n",
       "      <td>Los Angeles</td>\n",
       "      <td>CA</td>\n",
       "      <td>1399.0</td>\n",
       "      <td>1450.0</td>\n",
       "      <td>51.0</td>\n",
       "    </tr>\n",
       "    <tr>\n",
       "      <th>6</th>\n",
       "      <td>Upper East Side</td>\n",
       "      <td>New York</td>\n",
       "      <td>NY</td>\n",
       "      <td>2250.0</td>\n",
       "      <td>2700.0</td>\n",
       "      <td>450.0</td>\n",
       "    </tr>\n",
       "    <tr>\n",
       "      <th>7</th>\n",
       "      <td>Sunrise Manor</td>\n",
       "      <td>Las Vegas</td>\n",
       "      <td>NV</td>\n",
       "      <td>800.0</td>\n",
       "      <td>895.0</td>\n",
       "      <td>95.0</td>\n",
       "    </tr>\n",
       "    <tr>\n",
       "      <th>8</th>\n",
       "      <td>East New York</td>\n",
       "      <td>New York</td>\n",
       "      <td>NY</td>\n",
       "      <td>1350.0</td>\n",
       "      <td>1500.0</td>\n",
       "      <td>150.0</td>\n",
       "    </tr>\n",
       "    <tr>\n",
       "      <th>9</th>\n",
       "      <td>Southeast Los Angeles</td>\n",
       "      <td>Los Angeles</td>\n",
       "      <td>CA</td>\n",
       "      <td>1200.0</td>\n",
       "      <td>1300.0</td>\n",
       "      <td>100.0</td>\n",
       "    </tr>\n",
       "  </tbody>\n",
       "</table>\n",
       "</div>"
      ],
      "text/plain": [
       "            Neighborhood         City State  med_2011  med_2014  Increase\n",
       "0       Northeast Dallas       Dallas    TX     825.0     985.0     160.0\n",
       "1               Paradise    Las Vegas    NV     900.0    1100.0     200.0\n",
       "2               Maryvale      Phoenix    AZ     795.0     850.0      55.0\n",
       "3        Upper West Side     New York    NY    2795.0    3300.0     505.0\n",
       "4      South Los Angeles  Los Angeles    CA    1150.0    1400.0     250.0\n",
       "5           Sherman Oaks  Los Angeles    CA    1399.0    1450.0      51.0\n",
       "6        Upper East Side     New York    NY    2250.0    2700.0     450.0\n",
       "7          Sunrise Manor    Las Vegas    NV     800.0     895.0      95.0\n",
       "8          East New York     New York    NY    1350.0    1500.0     150.0\n",
       "9  Southeast Los Angeles  Los Angeles    CA    1200.0    1300.0     100.0"
      ]
     },
     "execution_count": 17,
     "metadata": {},
     "output_type": "execute_result"
    }
   ],
   "source": [
    "pandas_add_increase_column(df)\n",
    "df.head(10)"
   ]
  },
  {
   "cell_type": "markdown",
   "metadata": {},
   "source": [
    "### Pandas Challenges2"
   ]
  },
  {
   "cell_type": "code",
   "execution_count": 30,
   "metadata": {},
   "outputs": [],
   "source": [
    "def pandas_max_rent(df):\n",
    "    grouped = df.groupby(['City','State'])\n",
    "    return grouped['City', 'State', 'med_2011', 'med_2014'].max()"
   ]
  },
  {
   "cell_type": "code",
   "execution_count": 44,
   "metadata": {},
   "outputs": [
    {
     "name": "stderr",
     "output_type": "stream",
     "text": [
      "/Users/nicochen/opt/anaconda3/lib/python3.7/site-packages/ipykernel_launcher.py:3: FutureWarning: Indexing with multiple keys (implicitly converted to a tuple of keys) will be deprecated, use a list instead.\n",
      "  This is separate from the ipykernel package so we can avoid doing imports until\n"
     ]
    },
    {
     "data": {
      "text/html": [
       "<div>\n",
       "<style scoped>\n",
       "    .dataframe tbody tr th:only-of-type {\n",
       "        vertical-align: middle;\n",
       "    }\n",
       "\n",
       "    .dataframe tbody tr th {\n",
       "        vertical-align: top;\n",
       "    }\n",
       "\n",
       "    .dataframe thead th {\n",
       "        text-align: right;\n",
       "    }\n",
       "</style>\n",
       "<table border=\"1\" class=\"dataframe\">\n",
       "  <thead>\n",
       "    <tr style=\"text-align: right;\">\n",
       "      <th></th>\n",
       "      <th></th>\n",
       "      <th>City</th>\n",
       "      <th>State</th>\n",
       "      <th>med_2011</th>\n",
       "      <th>med_2014</th>\n",
       "    </tr>\n",
       "    <tr>\n",
       "      <th>City</th>\n",
       "      <th>State</th>\n",
       "      <th></th>\n",
       "      <th></th>\n",
       "      <th></th>\n",
       "      <th></th>\n",
       "    </tr>\n",
       "  </thead>\n",
       "  <tbody>\n",
       "    <tr>\n",
       "      <th>Akron</th>\n",
       "      <th>OH</th>\n",
       "      <td>Akron</td>\n",
       "      <td>OH</td>\n",
       "      <td>690.0</td>\n",
       "      <td>725.0</td>\n",
       "    </tr>\n",
       "    <tr>\n",
       "      <th>Albany</th>\n",
       "      <th>NY</th>\n",
       "      <td>Albany</td>\n",
       "      <td>NY</td>\n",
       "      <td>NaN</td>\n",
       "      <td>952.0</td>\n",
       "    </tr>\n",
       "    <tr>\n",
       "      <th>Albuquerque</th>\n",
       "      <th>NM</th>\n",
       "      <td>Albuquerque</td>\n",
       "      <td>NM</td>\n",
       "      <td>1099.0</td>\n",
       "      <td>1150.0</td>\n",
       "    </tr>\n",
       "    <tr>\n",
       "      <th>Alexandria</th>\n",
       "      <th>VA</th>\n",
       "      <td>Alexandria</td>\n",
       "      <td>VA</td>\n",
       "      <td>2155.0</td>\n",
       "      <td>2250.0</td>\n",
       "    </tr>\n",
       "    <tr>\n",
       "      <th>Amherst</th>\n",
       "      <th>MA</th>\n",
       "      <td>Amherst</td>\n",
       "      <td>MA</td>\n",
       "      <td>NaN</td>\n",
       "      <td>NaN</td>\n",
       "    </tr>\n",
       "    <tr>\n",
       "      <th>Anaheim</th>\n",
       "      <th>CA</th>\n",
       "      <td>Anaheim</td>\n",
       "      <td>CA</td>\n",
       "      <td>2005.0</td>\n",
       "      <td>2245.0</td>\n",
       "    </tr>\n",
       "    <tr>\n",
       "      <th>Anchorage</th>\n",
       "      <th>AK</th>\n",
       "      <td>Anchorage</td>\n",
       "      <td>AK</td>\n",
       "      <td>NaN</td>\n",
       "      <td>1995.0</td>\n",
       "    </tr>\n",
       "    <tr>\n",
       "      <th rowspan=\"2\" valign=\"top\">Arlington</th>\n",
       "      <th>TX</th>\n",
       "      <td>Arlington</td>\n",
       "      <td>TX</td>\n",
       "      <td>1100.0</td>\n",
       "      <td>1300.0</td>\n",
       "    </tr>\n",
       "    <tr>\n",
       "      <th>VA</th>\n",
       "      <td>Arlington</td>\n",
       "      <td>VA</td>\n",
       "      <td>2800.0</td>\n",
       "      <td>2796.0</td>\n",
       "    </tr>\n",
       "    <tr>\n",
       "      <th>Atlanta</th>\n",
       "      <th>GA</th>\n",
       "      <td>Atlanta</td>\n",
       "      <td>GA</td>\n",
       "      <td>2000.0</td>\n",
       "      <td>2450.0</td>\n",
       "    </tr>\n",
       "  </tbody>\n",
       "</table>\n",
       "</div>"
      ],
      "text/plain": [
       "                          City State  med_2011  med_2014\n",
       "City        State                                       \n",
       "Akron       OH           Akron    OH     690.0     725.0\n",
       "Albany      NY          Albany    NY       NaN     952.0\n",
       "Albuquerque NM     Albuquerque    NM    1099.0    1150.0\n",
       "Alexandria  VA      Alexandria    VA    2155.0    2250.0\n",
       "Amherst     MA         Amherst    MA       NaN       NaN\n",
       "Anaheim     CA         Anaheim    CA    2005.0    2245.0\n",
       "Anchorage   AK       Anchorage    AK       NaN    1995.0\n",
       "Arlington   TX       Arlington    TX    1100.0    1300.0\n",
       "            VA       Arlington    VA    2800.0    2796.0\n",
       "Atlanta     GA         Atlanta    GA    2000.0    2450.0"
      ]
     },
     "execution_count": 44,
     "metadata": {},
     "output_type": "execute_result"
    }
   ],
   "source": [
    "df2 = pandas_max_rent(df)\n",
    "df2.head(10)"
   ]
  },
  {
   "cell_type": "code",
   "execution_count": 45,
   "metadata": {},
   "outputs": [
    {
     "data": {
      "text/html": [
       "<div>\n",
       "<style scoped>\n",
       "    .dataframe tbody tr th:only-of-type {\n",
       "        vertical-align: middle;\n",
       "    }\n",
       "\n",
       "    .dataframe tbody tr th {\n",
       "        vertical-align: top;\n",
       "    }\n",
       "\n",
       "    .dataframe thead th {\n",
       "        text-align: right;\n",
       "    }\n",
       "</style>\n",
       "<table border=\"1\" class=\"dataframe\">\n",
       "  <thead>\n",
       "    <tr style=\"text-align: right;\">\n",
       "      <th></th>\n",
       "      <th>City</th>\n",
       "      <th>State</th>\n",
       "      <th>med_2011</th>\n",
       "      <th>med_2014</th>\n",
       "    </tr>\n",
       "  </thead>\n",
       "  <tbody>\n",
       "    <tr>\n",
       "      <th>0</th>\n",
       "      <td>Akron</td>\n",
       "      <td>OH</td>\n",
       "      <td>690.0</td>\n",
       "      <td>725.0</td>\n",
       "    </tr>\n",
       "    <tr>\n",
       "      <th>1</th>\n",
       "      <td>Albany</td>\n",
       "      <td>NY</td>\n",
       "      <td>NaN</td>\n",
       "      <td>952.0</td>\n",
       "    </tr>\n",
       "    <tr>\n",
       "      <th>2</th>\n",
       "      <td>Albuquerque</td>\n",
       "      <td>NM</td>\n",
       "      <td>1099.0</td>\n",
       "      <td>1150.0</td>\n",
       "    </tr>\n",
       "    <tr>\n",
       "      <th>3</th>\n",
       "      <td>Alexandria</td>\n",
       "      <td>VA</td>\n",
       "      <td>2155.0</td>\n",
       "      <td>2250.0</td>\n",
       "    </tr>\n",
       "    <tr>\n",
       "      <th>4</th>\n",
       "      <td>Amherst</td>\n",
       "      <td>MA</td>\n",
       "      <td>NaN</td>\n",
       "      <td>NaN</td>\n",
       "    </tr>\n",
       "    <tr>\n",
       "      <th>5</th>\n",
       "      <td>Anaheim</td>\n",
       "      <td>CA</td>\n",
       "      <td>2005.0</td>\n",
       "      <td>2245.0</td>\n",
       "    </tr>\n",
       "    <tr>\n",
       "      <th>6</th>\n",
       "      <td>Anchorage</td>\n",
       "      <td>AK</td>\n",
       "      <td>NaN</td>\n",
       "      <td>1995.0</td>\n",
       "    </tr>\n",
       "    <tr>\n",
       "      <th>7</th>\n",
       "      <td>Arlington</td>\n",
       "      <td>TX</td>\n",
       "      <td>1100.0</td>\n",
       "      <td>1300.0</td>\n",
       "    </tr>\n",
       "    <tr>\n",
       "      <th>8</th>\n",
       "      <td>Arlington</td>\n",
       "      <td>VA</td>\n",
       "      <td>2800.0</td>\n",
       "      <td>2796.0</td>\n",
       "    </tr>\n",
       "    <tr>\n",
       "      <th>9</th>\n",
       "      <td>Atlanta</td>\n",
       "      <td>GA</td>\n",
       "      <td>2000.0</td>\n",
       "      <td>2450.0</td>\n",
       "    </tr>\n",
       "  </tbody>\n",
       "</table>\n",
       "</div>"
      ],
      "text/plain": [
       "          City State  med_2011  med_2014\n",
       "0        Akron    OH     690.0     725.0\n",
       "1       Albany    NY       NaN     952.0\n",
       "2  Albuquerque    NM    1099.0    1150.0\n",
       "3   Alexandria    VA    2155.0    2250.0\n",
       "4      Amherst    MA       NaN       NaN\n",
       "5      Anaheim    CA    2005.0    2245.0\n",
       "6    Anchorage    AK       NaN    1995.0\n",
       "7    Arlington    TX    1100.0    1300.0\n",
       "8    Arlington    VA    2800.0    2796.0\n",
       "9      Atlanta    GA    2000.0    2450.0"
      ]
     },
     "execution_count": 45,
     "metadata": {},
     "output_type": "execute_result"
    }
   ],
   "source": [
    "#another solution\n",
    "df3 = df.groupby(['City', 'State']).max().reset_index()[['City', 'State', 'med_2011','med_2014']]\n",
    "df3.head(10)"
   ]
  },
  {
   "cell_type": "code",
   "execution_count": null,
   "metadata": {},
   "outputs": [],
   "source": []
  }
 ],
 "metadata": {
  "kernelspec": {
   "display_name": "Python 3",
   "language": "python",
   "name": "python3"
  },
  "language_info": {
   "codemirror_mode": {
    "name": "ipython",
    "version": 3
   },
   "file_extension": ".py",
   "mimetype": "text/x-python",
   "name": "python",
   "nbconvert_exporter": "python",
   "pygments_lexer": "ipython3",
   "version": "3.7.6"
  }
 },
 "nbformat": 4,
 "nbformat_minor": 4
}
