{
 "cells": [
  {
   "cell_type": "markdown",
   "metadata": {},
   "source": [
    "# Linear Algebra with Examples Using NumPy"
   ]
  },
  {
   "cell_type": "markdown",
   "metadata": {},
   "source": [
    "Discusses the fundamentals of (computational) linear algebra. We introduce vectors and matrices, and their implementation in numpy. Much focus is on solving systems of linear equations, a primary topic in applications.\n",
    "\n",
    "## Objectives\n",
    "- Create vectors and matrices in Python using numpy.\n",
    "    -vector = np.array([1, 2, 3, 4])\n",
    "    -mateice = np.array([[1, 2, 3], [4, 5, 6]])\n",
    "    \n",
    "- Compute the cosine of the angle between two vectors with dot product.\n",
    "    -np.dot(v1, v2) / (np.linalg.norm(v1) * np.linalg.norm(v2))\n",
    "- Define linear combination, and describe the space of all linear combinations of a set of vectors.\n",
    "    -a linear combination is formed out of a collection of vectors by multiplying them by various constants, and then adding the results.\n",
    "    \n",
    "- Describe and compute matrix products.\n",
    "\n",
    "    -If we have two vectors 𝑥 and 𝑦 of the same length  (𝑛), then the dot product is:\n",
    "    x*y = x1*y1 +x2*y2 +.....xn*yn\n",
    "- Solve systems of linear equations.\n",
    "    -np.linalg.solve(M1, M2)\n",
    "    M1: m*n\n",
    "    M2: n*p\n",
    "    The numbers rows of M2 should equal to the numbers columns of M1"
   ]
  },
  {
   "cell_type": "code",
   "execution_count": 1,
   "metadata": {},
   "outputs": [],
   "source": [
    "import numpy as np\n",
    "from numpy.random import randn\n",
    "from numpy.random import randint\n",
    "import matplotlib.pyplot as plt\n",
    "\n",
    "plt.style.use(\"ggplot\")\n",
    "\n",
    "%matplotlib inline\n",
    "%config InlineBackend.figure_format='retina'\n",
    "plt.rcParams['figure.figsize'] = (13,8)"
   ]
  },
  {
   "cell_type": "markdown",
   "metadata": {},
   "source": [
    "## Linear Algebra and Machine Learning\n",
    "\n",
    "Linear algebra is **everywhere**, it is **the most important topic in applied mathematics**.\n",
    "\n",
    "* Calculus in higher dimenstional spaces reduces to applied linear algebra.\n",
    "    * The derivative of a function is best understood as a matrix.\n",
    "* Solving regression problems: linear, logistic, etc...\n",
    "    * Reduces to solving either a single, or multiple systems of equations.\n",
    "* Ranking web pages in order of importance\n",
    "    * Solved as the problem of finding the eigenvector of the page score matrix, which is solved either as systems of equations, or an iterative multiplication algorithm.\n",
    "* Dimensionality reduction - Principal Component Analysis\n",
    "    * Again, eigenvalues.\n",
    "* Movie recommendation\n",
    "    * Use singular value decomposition (SVD, a matrix factorization) to break down user-movie into user-feature and movie-feature matrices, keeping only the top $k$-ranks to identify the best matches.\n",
    "* Topic modeling\n",
    "    * Extensive use of SVD and matrix factorization can be found in Natural Language Processing, specifically in topic modeling and semantic analysis."
   ]
  },
  {
   "cell_type": "markdown",
   "metadata": {},
   "source": [
    "## Vectors"
   ]
  },
  {
   "cell_type": "markdown",
   "metadata": {},
   "source": [
    "A **vector** is an array of real numbers:\n",
    "\n",
    "$$\\boldsymbol{x} = [x_1, x_2, \\ldots, x_n]$$"
   ]
  },
  {
   "cell_type": "code",
   "execution_count": 2,
   "metadata": {},
   "outputs": [
    {
     "name": "stdout",
     "output_type": "stream",
     "text": [
      "[1 2 3 4]\n",
      "(4,)\n"
     ]
    }
   ],
   "source": [
    "x = np.array([1, 2, 3, 4])\n",
    "print(x)\n",
    "print(x.shape)"
   ]
  },
  {
   "cell_type": "markdown",
   "metadata": {},
   "source": [
    "Geometrically, a vector specifies the coordinates of the tip of the vector if the tail were placed at the origin."
   ]
  },
  {
   "cell_type": "code",
   "execution_count": 3,
   "metadata": {},
   "outputs": [],
   "source": [
    "def plot_arrow_from_origin(ax, x, color=\"black\"):\n",
    "    '''\n",
    "    Given ax and vector x, plot vector from the origin\n",
    "    '''\n",
    "    xlim = ax.get_xlim()\n",
    "    new_xlim = [0, 0]\n",
    "    new_xlim[0] = np.min([xlim[0], x[0] - 0.5])\n",
    "    new_xlim[1] = np.max([xlim[1], x[0] + 0.5])\n",
    "    ax.set_xlim(new_xlim)\n",
    "    ylim = ax.get_ylim()\n",
    "    new_ylim = [0, 0]\n",
    "    new_ylim[0] = np.min([ylim[0], x[1] - 0.5])\n",
    "    new_ylim[1] = np.max([ylim[1], x[1] + 0.5])\n",
    "    ax.set_ylim(new_ylim)\n",
    "    ax.set(aspect='equal')\n",
    "    ax.arrow(0, 0, x[0], x[1],\n",
    "             head_width=0.1, linewidth=3, head_length=0.2,\n",
    "             fc=color, ec=color)"
   ]
  },
  {
   "cell_type": "code",
   "execution_count": 4,
   "metadata": {},
   "outputs": [
    {
     "data": {
      "image/png": "[encoded data removed]",
      "text/plain": [
       "<Figure size 936x576 with 1 Axes>"
      ]
     },
     "metadata": {
      "image/png": {
       "height": 469,
       "width": 488
      },
      "needs_background": "light"
     },
     "output_type": "display_data"
    }
   ],
   "source": [
    "fig, ax = plt.subplots()\n",
    "\n",
    "plot_arrow_from_origin(ax, (1, 1))\n",
    "plot_arrow_from_origin(ax, (0.5, -1))\n",
    "plot_arrow_from_origin(ax, (-1, 0.75))\n",
    "ax.set_aspect('equal')"
   ]
  },
  {
   "cell_type": "markdown",
   "metadata": {},
   "source": [
    "Adding a constant to a vector adds the constant to each element\n",
    "\n",
    "\n",
    "$$a + \\boldsymbol{x} = [a + x_1, a + x_2, \\ldots, a + x_n]$$"
   ]
  },
  {
   "cell_type": "code",
   "execution_count": 5,
   "metadata": {},
   "outputs": [
    {
     "name": "stdout",
     "output_type": "stream",
     "text": [
      "[1 2 3 4]\n",
      "[5 6 7 8]\n"
     ]
    }
   ],
   "source": [
    "a = 4\n",
    "print(x)\n",
    "print(x + a)"
   ]
  },
  {
   "cell_type": "markdown",
   "metadata": {},
   "source": [
    "Multiplying a vector by a constant multiplies each term by the constant.\n",
    "\n",
    "$$a \\boldsymbol{x} = [ax_1, ax_2, \\ldots, ax_n]$$\n",
    "\n",
    "Any operation can be used this way on numpy arrays and numbers. "
   ]
  },
  {
   "cell_type": "code",
   "execution_count": 6,
   "metadata": {},
   "outputs": [
    {
     "name": "stdout",
     "output_type": "stream",
     "text": [
      "[ 4  8 12 16]\n"
     ]
    }
   ],
   "source": [
    "print(a * x)"
   ]
  },
  {
   "cell_type": "markdown",
   "metadata": {},
   "source": [
    "The **norm** or **length of a vector** $\\mathbf{x}$ is defined by using the pythagorean theorem\n",
    "\n",
    "$$||\\boldsymbol{x}|| = \\sqrt{x_1^2 + x_2^2 + \\cdots + x_n^2} = \\sqrt{\\sum_{i=1}^{n} x_i^2}$$\n",
    "\n",
    "And a **unit vector** is one for which\n",
    "\n",
    "$$||\\boldsymbol{x}|| = 1 $$\n"
   ]
  },
  {
   "cell_type": "code",
   "execution_count": 7,
   "metadata": {},
   "outputs": [
    {
     "name": "stdout",
     "output_type": "stream",
     "text": [
      "[ 1  4  9 16]\n",
      "5.477225575051661\n",
      "5.477225575051661\n"
     ]
    }
   ],
   "source": [
    "print(x**2)\n",
    "print(np.sqrt(np.sum(x**2)))\n",
    "print(np.linalg.norm(x))"
   ]
  },
  {
   "cell_type": "code",
   "execution_count": 8,
   "metadata": {},
   "outputs": [
    {
     "data": {
      "image/png": "[encoded data removed]",
      "text/plain": [
       "<Figure size 864x288 with 2 Axes>"
      ]
     },
     "metadata": {
      "image/png": {
       "height": 265,
       "width": 665
      },
      "needs_background": "light"
     },
     "output_type": "display_data"
    }
   ],
   "source": [
    "def unit_vector_from_angle(angle):\n",
    "    return np.array([np.cos(angle), np.sin(angle)])\n",
    "\n",
    "fig, axs = plt.subplots(1, 2, figsize=(12, 4))\n",
    "\n",
    "angles = np.linspace(0, 2*np.pi, num=16)\n",
    "for angle in angles:\n",
    "    plot_arrow_from_origin(axs[0], unit_vector_from_angle(angle))\n",
    "axs[0].set_title(\"Unit Vectors\")\n",
    "axs[0].set_aspect('equal')\n",
    "\n",
    "    \n",
    "scales = np.linspace(0.2, 2, num=16)\n",
    "for angle, scale in zip(angles, scales):\n",
    "    plot_arrow_from_origin(axs[1], scale*unit_vector_from_angle(angle))\n",
    "axs[1].set_title(\"Vectors of Increasing Length\")\n",
    "axs[1].set_aspect('equal')"
   ]
  },
  {
   "cell_type": "markdown",
   "metadata": {},
   "source": [
    "### Dot Products and Angles Between Vectors"
   ]
  },
  {
   "cell_type": "markdown",
   "metadata": {},
   "source": [
    "If we have two vectors $\\boldsymbol{x}$ and $\\boldsymbol{y}$ of the same length $(n)$, then the _dot product_ is given by:\n",
    "\n",
    "$$\\boldsymbol{x} \\cdot \\boldsymbol{y} = x_1y_1 + x_2y_2 + \\cdots + x_ny_n = \\sum_{i=1}^{n} x_iy_i$$"
   ]
  },
  {
   "cell_type": "code",
   "execution_count": 9,
   "metadata": {},
   "outputs": [
    {
     "name": "stdout",
     "output_type": "stream",
     "text": [
      "[1 2 3 4]\n",
      "[4 3 2 1]\n"
     ]
    },
    {
     "data": {
      "text/plain": [
       "20"
      ]
     },
     "execution_count": 9,
     "metadata": {},
     "output_type": "execute_result"
    }
   ],
   "source": [
    "y = np.array([4, 3, 2, 1])\n",
    "print(x)\n",
    "print(y)\n",
    "np.dot(x, y)"
   ]
  },
  {
   "cell_type": "markdown",
   "metadata": {},
   "source": [
    "The dot product looks like a strange thing, but it is important because it allows you to easily compute and communicate the **angle between two vectors**."
   ]
  },
  {
   "cell_type": "markdown",
   "metadata": {},
   "source": [
    "The **cosine of the angle between the two vectors** can be computed by the following formula:\n",
    "\n",
    "$$\\cos \\theta = \\frac{\\boldsymbol{x} \\cdot \\boldsymbol{y}}{||\\boldsymbol{x}|| \\text{ } ||\\boldsymbol{y}||}$$"
   ]
  },
  {
   "cell_type": "code",
   "execution_count": 10,
   "metadata": {},
   "outputs": [
    {
     "data": {
      "text/plain": [
       "0.9688639316269662"
      ]
     },
     "execution_count": 10,
     "metadata": {},
     "output_type": "execute_result"
    }
   ],
   "source": [
    "x = np.array([1, 2, 3, 4])\n",
    "y = np.array([5, 6, 7, 8])\n",
    "np.dot(x, y) / (np.linalg.norm(x) * np.linalg.norm(y))"
   ]
  },
  {
   "cell_type": "code",
   "execution_count": 11,
   "metadata": {},
   "outputs": [
    {
     "data": {
      "image/png": "[encoded data removed]",
      "text/plain": [
       "<Figure size 864x576 with 9 Axes>"
      ]
     },
     "metadata": {
      "image/png": {
       "height": 568,
       "width": 823
      },
      "needs_background": "light"
     },
     "output_type": "display_data"
    }
   ],
   "source": [
    "fig, axs = plt.subplots(3, 3, figsize=(12, 8), sharex=True, sharey=True)\n",
    "\n",
    "angles = np.linspace(0, 2*np.pi, num=9)\n",
    "for ax, angle in zip(axs.flatten(), angles):\n",
    "    v = unit_vector_from_angle(angle)\n",
    "    plot_arrow_from_origin(ax, v)\n",
    "    ax.set_xlim((-2, 2)); ax.set_ylim(-1.5, 1.5)\n",
    "    plot_arrow_from_origin(ax, (1, 0), color=\"green\")\n",
    "    \n",
    "    dot_prod = np.dot((1, 0), v)\n",
    "    ax.set_title(\"Angle: {:2.2f}, Dot Product: {:2.2f}\".format(angle, dot_prod))\n",
    "    \n",
    "    ax.set_aspect('equal')\n",
    "    \n",
    "plt.tight_layout()"
   ]
  },
  {
   "cell_type": "markdown",
   "metadata": {},
   "source": [
    "If $\\boldsymbol{x} \\cdot \\boldsymbol{y} = 0$ then $\\boldsymbol{x}$ and $\\boldsymbol{y}$ are *orthogonal* (aligns with the intuitive notion of perpendicular)."
   ]
  },
  {
   "cell_type": "code",
   "execution_count": 12,
   "metadata": {},
   "outputs": [
    {
     "data": {
      "text/plain": [
       "0"
      ]
     },
     "execution_count": 12,
     "metadata": {},
     "output_type": "execute_result"
    }
   ],
   "source": [
    "w = np.array([1, 2])\n",
    "v = np.array([-2, 1])\n",
    "np.dot(w, v)"
   ]
  },
  {
   "cell_type": "markdown",
   "metadata": {},
   "source": [
    "A picture shows that these are perpedicular."
   ]
  },
  {
   "cell_type": "code",
   "execution_count": 13,
   "metadata": {},
   "outputs": [
    {
     "data": {
      "image/png": "[encoded data removed]",
      "text/plain": [
       "<Figure size 936x576 with 1 Axes>"
      ]
     },
     "metadata": {
      "image/png": {
       "height": 469,
       "width": 741
      },
      "needs_background": "light"
     },
     "output_type": "display_data"
    }
   ],
   "source": [
    "fig, ax = plt.subplots()\n",
    "ax.set_aspect('equal')\n",
    "\n",
    "plot_arrow_from_origin(ax, (1, 2))\n",
    "plot_arrow_from_origin(ax, (-2, 1))"
   ]
  },
  {
   "cell_type": "markdown",
   "metadata": {},
   "source": [
    "If you compute the dot product of a vector with itself, the cosine on the left hand side of the formula is $1$\n",
    "\n",
    "$$1 = \\frac{\\boldsymbol{x} \\cdot \\boldsymbol{x}}{||\\boldsymbol{x}|| \\text{ } ||\\boldsymbol{x}||}$$\n",
    "\n",
    "So, the norm squared of a vector is just the vector dot product with itself:\n",
    "$$\n",
    "||\\boldsymbol{x}||^2 = \\boldsymbol{x} \\cdot \\boldsymbol{x}\n",
    "$$"
   ]
  },
  {
   "cell_type": "code",
   "execution_count": 14,
   "metadata": {},
   "outputs": [
    {
     "name": "stdout",
     "output_type": "stream",
     "text": [
      "30.0\n",
      "30\n"
     ]
    }
   ],
   "source": [
    "print(np.linalg.norm(x)**2)\n",
    "print(np.dot(x, x))"
   ]
  },
  {
   "cell_type": "markdown",
   "metadata": {},
   "source": [
    "The **distance between two vectors** is the norm of the difference:\n",
    "\n",
    "$$\n",
    "d(\\boldsymbol{x},\\boldsymbol{y}) = ||\\boldsymbol{x}-\\boldsymbol{y}||\n",
    "$$"
   ]
  },
  {
   "cell_type": "code",
   "execution_count": 15,
   "metadata": {},
   "outputs": [
    {
     "name": "stdout",
     "output_type": "stream",
     "text": [
      "8.0\n"
     ]
    }
   ],
   "source": [
    "print(np.linalg.norm(x - y))"
   ]
  },
  {
   "cell_type": "markdown",
   "metadata": {},
   "source": [
    "### Linear Combinations of Vectors"
   ]
  },
  {
   "cell_type": "markdown",
   "metadata": {},
   "source": [
    "If we have two vectors $\\boldsymbol{x}$ and $\\boldsymbol{y}$ of the same number of components $(n)$, then\n",
    "\n",
    "$$\\boldsymbol{x} + \\boldsymbol{y} = [x_1+y_1, x_2+y_2, \\ldots, x_n+y_n]$$"
   ]
  },
  {
   "cell_type": "code",
   "execution_count": 16,
   "metadata": {},
   "outputs": [
    {
     "name": "stdout",
     "output_type": "stream",
     "text": [
      "[ 6  8 10 12]\n"
     ]
    }
   ],
   "source": [
    "x = np.array([1, 2, 3, 4])\n",
    "y = np.array([5, 6, 7, 8])\n",
    "print(x + y)"
   ]
  },
  {
   "cell_type": "markdown",
   "metadata": {},
   "source": [
    "Geometrically, this adds vectors with the **parallelogram rule**:\n",
    "\n",
    "![](parallelogram-rule.gif)"
   ]
  },
  {
   "cell_type": "markdown",
   "metadata": {},
   "source": [
    "A **linear combination** of a collection of vectors $(\\boldsymbol{x}_1,\n",
    "                                                    \\boldsymbol{x}_2, \\ldots,\n",
    "                                                    \\boldsymbol{x}_m)$ \n",
    "is a vector of the form:\n",
    "\n",
    "$$a_1 \\boldsymbol{x}_1 + a_2 \\boldsymbol{x}_2 + \n",
    "\\cdots + a_m \\boldsymbol{x}_m$$\n",
    "\n",
    "That is, **a linear combination is formed out of a collection of vectors by multiplying them by various constants, and then adding the results.**"
   ]
  },
  {
   "cell_type": "code",
   "execution_count": 17,
   "metadata": {},
   "outputs": [
    {
     "name": "stdout",
     "output_type": "stream",
     "text": [
      "a1*x1 = [2 4 6 8]\n",
      "a2*x2 = [20 24 28 32]\n",
      "a1*x1 + a2*x2 = [22 28 34 40]\n"
     ]
    }
   ],
   "source": [
    "a1 = 2\n",
    "x1 = np.array([1, 2, 3, 4])\n",
    "print(\"a1*x1 = {}\".format(a1*x1))\n",
    "\n",
    "a2 = 4\n",
    "x2 = np.array([5, 6, 7, 8])\n",
    "print(\"a2*x2 = {}\".format(a2*x2))\n",
    "\n",
    "print(\"a1*x1 + a2*x2 = {}\".format(a1*x1 + a2*x2))"
   ]
  },
  {
   "cell_type": "markdown",
   "metadata": {},
   "source": [
    "Geometrically, **all** the linear combinations of a collection of vectors trace out the **plane spanned by those vectors.**\n",
    "\n",
    "![](linear-combination-plane.png)"
   ]
  },
  {
   "cell_type": "markdown",
   "metadata": {},
   "source": [
    "# Matrices"
   ]
  },
  {
   "cell_type": "markdown",
   "metadata": {},
   "source": [
    "An **$n \\times p$ matrix** is an array of numbers with $n$ rows and $p$ columns:\n",
    "\n",
    "$$\n",
    "X =\n",
    "  \\begin{bmatrix}\n",
    "    x_{11} & x_{12} & \\cdots & x_{1p} \\\\\n",
    "    x_{21} & x_{22} & \\cdots & x_{2p} \\\\\n",
    "    \\vdots & \\vdots & \\ddots & \\vdots \\\\\n",
    "    x_{n1} & x_{n2} & \\cdots & x_{np} \n",
    "  \\end{bmatrix}\n",
    "$$\n",
    "\n",
    "Often in data science, matricies are used as a low level representation of a data set.  In this context:\n",
    "\n",
    "- $n$ = number of rows = the number of observations  \n",
    "- $p$ = number of columns = the number of features"
   ]
  },
  {
   "cell_type": "markdown",
   "metadata": {},
   "source": [
    "### Matricies in NumPy"
   ]
  },
  {
   "cell_type": "markdown",
   "metadata": {},
   "source": [
    "In `numpy` matricies and vectors are both represented as `numpy.array`s.\n",
    "\n",
    "  - A vector is a **1-dimensional** array.\n",
    "  - A matrix is a **2-dimensional** array.\n",
    "\n",
    "For example, the following $2 \\times 3$ matrix\n",
    "$$\n",
    "X =\n",
    "  \\begin{bmatrix}\n",
    "    1 & 2 & 3\\\\\n",
    "    4 & 5 & 6\n",
    "  \\end{bmatrix}\n",
    "$$\n",
    "\n",
    "Can be created using numpy as:"
   ]
  },
  {
   "cell_type": "code",
   "execution_count": 18,
   "metadata": {},
   "outputs": [
    {
     "name": "stdout",
     "output_type": "stream",
     "text": [
      "[[1 2 3]\n",
      " [4 5 6]]\n"
     ]
    }
   ],
   "source": [
    "L = [[1, 2, 3], [4, 5, 6]]\n",
    "X = np.array(L)\n",
    "print(X)"
   ]
  },
  {
   "cell_type": "markdown",
   "metadata": {},
   "source": [
    "The `shape` attribute now tells us the number of rows and columns"
   ]
  },
  {
   "cell_type": "code",
   "execution_count": 19,
   "metadata": {},
   "outputs": [
    {
     "name": "stdout",
     "output_type": "stream",
     "text": [
      "(2, 3)\n"
     ]
    }
   ],
   "source": [
    "print(X.shape)"
   ]
  },
  {
   "cell_type": "markdown",
   "metadata": {},
   "source": [
    "### Basic Arithmetic\n",
    "\n",
    "\n",
    "Let $X$ and $Y$ be matrices **of shape $n \\times p$** (i.e. of **the same shape**).\n",
    "\n",
    "We often use $x_{ij}$ $y_{ij}$ for $i=1, 2, \\ldots, n$ and $j=1, 2, \\ldots, p$ denote the entries of the matrix.\n",
    "\n",
    "1. $X+Y$ is the matrix whose $(i,j)^{th}$ entry is $x_{ij} + y_{ij}$.  That is, the **matrix created by adding entry-by-entry**.\n",
    "2. $X-Y$ is the matrix whose $(i,j)^{th}$ entry is $x_{ij} - y_{ij}$ That is, the **matrix created by subtracting entry-by-entry**.\n",
    "3. $aX$, where $a$ is any real number, is the matrix whose $(i,j)^{th}$ entry is $ax_{ij}$. That is, the **matrix created by multiplying every entry by $a$**."
   ]
  },
  {
   "cell_type": "code",
   "execution_count": 7,
   "metadata": {},
   "outputs": [
    {
     "name": "stdout",
     "output_type": "stream",
     "text": [
      "(4,)\n",
      "X = \n",
      "[[1 2 3]\n",
      " [4 5 6]]\n",
      "\n",
      "Y = \n",
      "[[ 7  8  9]\n",
      " [10 11 12]]\n",
      "\n",
      "X + Y = \n",
      "[[ 8 10 12]\n",
      " [14 16 18]]\n"
     ]
    }
   ],
   "source": [
    "X = np.array([[1, 2, 3], [4, 5, 6]])\n",
    "print(x.shape)\n",
    "print(\"X = \\n{}\\n\".format(X))\n",
    "\n",
    "Y = np.array([[7, 8, 9], [10, 11, 12]])\n",
    "print(\"Y = \\n{}\\n\".format(Y))\n",
    "\n",
    "print(\"X + Y = \\n{}\".format(X + Y))"
   ]
  },
  {
   "cell_type": "code",
   "execution_count": 21,
   "metadata": {},
   "outputs": [
    {
     "name": "stdout",
     "output_type": "stream",
     "text": [
      "X = \n",
      "[[1 2 3]\n",
      " [4 5 6]]\n",
      "\n",
      "Y = \n",
      "[[ 7  8  9]\n",
      " [10 11 12]]\n",
      "\n",
      "X - Y = \n",
      "[[-6 -6 -6]\n",
      " [-6 -6 -6]]\n",
      "\n"
     ]
    }
   ],
   "source": [
    "X = np.array([[1, 2, 3], [4, 5, 6]])\n",
    "print(\"X = \\n{}\\n\".format(X))\n",
    "\n",
    "Y = np.array([[7, 8, 9], [10, 11, 12]])\n",
    "print(\"Y = \\n{}\\n\".format(Y))\n",
    "\n",
    "print(\"X - Y = \\n{}\\n\".format(X - Y))"
   ]
  },
  {
   "cell_type": "code",
   "execution_count": 4,
   "metadata": {},
   "outputs": [
    {
     "name": "stdout",
     "output_type": "stream",
     "text": [
      "X = \n",
      "[[1 2 3]\n",
      " [4 5 6]]\n",
      "\n",
      "shape (4,)\n",
      "5X = \n",
      "[[ 5 10 15]\n",
      " [20 25 30]]\n"
     ]
    }
   ],
   "source": [
    "X = np.array([[1, 2, 3], [4, 5, 6]])\n",
    "print(\"X = \\n{}\\n\".format(X))\n",
    "print(\"shape\", x.shape)\n",
    "\n",
    "a = 5\n",
    "print(\"5X = \\n{}\".format(a*X))"
   ]
  },
  {
   "cell_type": "markdown",
   "metadata": {},
   "source": [
    "### Systems of Linear Equations"
   ]
  },
  {
   "cell_type": "markdown",
   "metadata": {},
   "source": [
    "Matricies were invented in the context of **systems of linear equations**.\n",
    "\n",
    "A system of linear equations is a collection of equations like:\n",
    "\n",
    "\\begin{align*}\n",
    "    a_{11}x_1 + \\cdots + a_{1n}x_n &= b_1 \\\\\n",
    "    a_{21}x_1 + \\cdots + a_{2n}x_n &= b_2 \\\\\n",
    "    \\vdots \\hspace{1in} \\vdots \\\\\n",
    "    a_{m1}x_1 + \\cdots + a_{mn}x_n &= b_m \n",
    "\\end{align*}\n",
    "\n",
    "So for example:\n",
    "\n",
    "\\begin{align*}\n",
    "    2 x_1 - x_2 = 4 \\\\\n",
    "    x_1 + 6 x_2 = 0\n",
    "\\end{align*}"
   ]
  },
  {
   "cell_type": "markdown",
   "metadata": {},
   "source": [
    "Systems of linear equations are **ubiquitous** in applied and computational mathematics.  Seriously, they are everywhere.\n",
    "\n",
    "**The most important thing for us to be able to compute is solutions to systems of linear equations**."
   ]
  },
  {
   "cell_type": "markdown",
   "metadata": {},
   "source": [
    "We can represent the system above as a matrix and a vector:\n",
    "\n",
    "$$ \\\n",
    "\\text{LHS} =   \\begin{bmatrix}\n",
    "    2 & -1 \\\\\n",
    "    1 & 6\n",
    "  \\end{bmatrix},\n",
    "\\\n",
    "\\text{RHS} = \\begin{bmatrix}\n",
    "4\\\\ 0\n",
    "\\end{bmatrix}\n",
    "$$"
   ]
  },
  {
   "cell_type": "markdown",
   "metadata": {},
   "source": [
    "We can solve systems of linear equations in `numpy` by using `np.linalg.solve`"
   ]
  },
  {
   "cell_type": "code",
   "execution_count": 23,
   "metadata": {},
   "outputs": [
    {
     "name": "stdout",
     "output_type": "stream",
     "text": [
      "x1 = 1.85\n",
      "x2 = -0.31\n",
      "2*x1 - x2 = 4.00\n",
      "x1 + 6*x2 = 0.00\n"
     ]
    }
   ],
   "source": [
    "M = np.array([[2, -1], [1, 6]])\n",
    "b = np.array([4, 0])\n",
    "\n",
    "x1, x2 = np.linalg.solve(M, b)\n",
    "print(\"x1 = {:2.2f}\".format(x1))\n",
    "print(\"x2 = {:2.2f}\".format(x2))\n",
    "print(\"2*x1 - x2 = {:2.2f}\".format(2*x1 - x2))\n",
    "print(\"x1 + 6*x2 = {:2.2f}\".format(x1 + 6*x2))"
   ]
  },
  {
   "cell_type": "markdown",
   "metadata": {},
   "source": [
    "### Matrix Multiplication"
   ]
  },
  {
   "cell_type": "markdown",
   "metadata": {},
   "source": [
    "**Matrix Multiplication** was invented to describe how solutions to systems of linear equations are related to each other.\n",
    "\n",
    "Suppose we have two systems of equations, where the right hand side of the second is equal to the solutions to the first."
   ]
  },
  {
   "cell_type": "markdown",
   "metadata": {},
   "source": [
    "**First Equation:**\n",
    "\n",
    "\\begin{align*}\n",
    "    2 x_1 - x_2 = 4 \\\\\n",
    "    x_1 + 6 x_2 = 0\n",
    "\\end{align*}\n",
    "\n",
    "**Second Equation:**\n",
    "\n",
    "\\begin{align*}\n",
    "    y_1 + y_2 = x_1 \\\\\n",
    "    2 y_1 - 3 y_2 = x_2\n",
    "\\end{align*}"
   ]
  },
  {
   "cell_type": "markdown",
   "metadata": {},
   "source": [
    "Then we can substitute the second equation **into** the first to get a **single** system of equations for $y$:\n",
    "\n",
    "\\begin{align*}\n",
    "    [2 \\times 1 + (-1) \\times 2] y_1 + [2 \\times 1 + (-1) \\times (-3)] y_2 = 4 \\\\\n",
    "    [(1) \\times (1) + (6) \\times (2)] y_1 + [(1) \\times (1) + (6) \\times (-3) ] y_2 = 0\n",
    "\\end{align*}\n",
    "\n",
    "The coefficients in this new equation are an example of **matrix multiplication**\n",
    "\n",
    "$$\n",
    "\\begin{bmatrix}\n",
    "    2 & -1 \\\\\n",
    "    1 & 6\n",
    "\\end{bmatrix}\n",
    "\\begin{bmatrix}\n",
    "    1 & 1 \\\\\n",
    "    2 & -3\n",
    "\\end{bmatrix} = \n",
    "\\begin{bmatrix}\n",
    "    (2)(1) + (-1)(2) & (2)(1) + (-1)(-3) \\\\\n",
    "    (1)(1) + (6)(2) & (1)(1) + (6)(-3)\n",
    "\\end{bmatrix}\n",
    "$$"
   ]
  },
  {
   "cell_type": "markdown",
   "metadata": {},
   "source": [
    "In order to multiply two matrices, they must be **conformable**: the number of columns of the first matrix must be the same as the number of rows of the second matrix.\n",
    "\n",
    "Let $X$ be a matrix with shape $n \\times k$ and let $Y$ be a matrix with shape $k \\times p$, then the product $XY$ will be a matrix with shape $n \\times p$ whose $(i,j)$-th element is given by the dot product of the $i$-th row of $X$ and the $j$-th column of $Y$\n",
    "\n",
    "$$(XY)_{i,j} = x_{i1}y_{1j} + \\cdots + x_{ik}y_{kj}$$"
   ]
  },
  {
   "cell_type": "code",
   "execution_count": 24,
   "metadata": {},
   "outputs": [
    {
     "name": "stdout",
     "output_type": "stream",
     "text": [
      "X = \n",
      "[[ 2  1  0]\n",
      " [-1  2  3]]\n",
      "\n",
      "Y = \n",
      "[[ 0 -2]\n",
      " [ 1  2]\n",
      " [ 1  1]]\n",
      "\n",
      "XY = \n",
      "[[ 1 -2]\n",
      " [ 5  9]]\n",
      "\n"
     ]
    }
   ],
   "source": [
    "X = np.array([[2, 1, 0], [-1, 2, 3]])\n",
    "print(\"X = \\n{}\\n\".format(X))\n",
    "\n",
    "Y = np.array([[0, -2], [1, 2], [1, 1]])\n",
    "print(\"Y = \\n{}\\n\".format(Y))\n",
    "\n",
    "# Matrix multiply\n",
    "print(\"XY = \\n{}\\n\".format(X @ Y))"
   ]
  },
  {
   "cell_type": "markdown",
   "metadata": {},
   "source": [
    "#### Note: \n",
    "\n",
    "$$XY \\neq YX$$"
   ]
  },
  {
   "cell_type": "code",
   "execution_count": 25,
   "metadata": {},
   "outputs": [
    {
     "name": "stdout",
     "output_type": "stream",
     "text": [
      "XY = \n",
      "[[ 1 -2]\n",
      " [ 5  9]]\n",
      "\n",
      "YX = \n",
      "[[ 2 -4 -6]\n",
      " [ 0  5  6]\n",
      " [ 1  3  3]]\n"
     ]
    }
   ],
   "source": [
    "print(\"XY = \\n{}\\n\".format(X @ Y))\n",
    "print(\"YX = \\n{}\".format(Y @ X))"
   ]
  },
  {
   "cell_type": "markdown",
   "metadata": {},
   "source": [
    "Notice that $XY$ and $YX$ **do not even have the same shape**."
   ]
  },
  {
   "cell_type": "markdown",
   "metadata": {},
   "source": [
    "If $X$ and $Y$ are square matrices of the same dimension then the both the product $XY$ and $YX$ exist, but even in this case there is no guarantee the two products will be the same"
   ]
  },
  {
   "cell_type": "markdown",
   "metadata": {},
   "source": [
    "### Other Notation in NumPy"
   ]
  },
  {
   "cell_type": "markdown",
   "metadata": {},
   "source": [
    "There is an alternative notation for matrix multiplication in numpy that you will see often:"
   ]
  },
  {
   "cell_type": "code",
   "execution_count": 26,
   "metadata": {},
   "outputs": [
    {
     "data": {
      "text/plain": [
       "array([[ 1, -2],\n",
       "       [ 5,  9]])"
      ]
     },
     "execution_count": 26,
     "metadata": {},
     "output_type": "execute_result"
    }
   ],
   "source": [
    "np.dot(X, Y) # "
   ]
  },
  {
   "cell_type": "markdown",
   "metadata": {},
   "source": [
    "### Matrix Transpose\n",
    "\n",
    "The **transpose** of an $n \\times p$ matrix is a $p \\times n$ matrix with rows and columns interchanged\n",
    "\n",
    "$$\n",
    "X^T =\n",
    "  \\begin{bmatrix}\n",
    "    x_{11} & x_{12} & \\cdots & x_{1n} \\\\\n",
    "    x_{21} & x_{22} & \\cdots & x_{2n} \\\\\n",
    "    \\vdots & \\vdots & \\ddots & \\vdots \\\\\n",
    "    x_{p1} & x_{p2} & \\cdots & x_{pn} \n",
    "  \\end{bmatrix}\n",
    "$$"
   ]
  },
  {
   "cell_type": "code",
   "execution_count": 27,
   "metadata": {},
   "outputs": [
    {
     "name": "stdout",
     "output_type": "stream",
     "text": [
      "@\n",
      "1.5 µs ± 53.4 ns per loop (mean ± std. dev. of 3 runs, 1000000 loops each)\n",
      "1.4956649000000005e-06\n",
      "\n",
      "numpy dot\n",
      "1.91 µs ± 112 ns per loop (mean ± std. dev. of 3 runs, 1000000 loops each)\n",
      "2.059318899999999e-06\n",
      "\n",
      "numpy matmul\n",
      "2.6 µs ± 832 ns per loop (mean ± std. dev. of 3 runs, 1000000 loops each)\n",
      "3.2737178999999977e-06\n"
     ]
    }
   ],
   "source": [
    "print(\"@\")\n",
    "time = %timeit -r 3 -o X@Y \n",
    "print (time.all_runs[0]/time.loops )\n",
    "\n",
    "print(\"\\nnumpy dot\")\n",
    "time = %timeit -r 3 -o np.dot(X, Y) \n",
    "print (time.all_runs[0]/time.loops )\n",
    "\n",
    "print(\"\\nnumpy matmul\")\n",
    "time = %timeit -r 3 -o np.matmul(X, Y)\n",
    "print (time.all_runs[0]/time.loops)"
   ]
  },
  {
   "cell_type": "code",
   "execution_count": 28,
   "metadata": {},
   "outputs": [
    {
     "name": "stdout",
     "output_type": "stream",
     "text": [
      "[[ 2  1  0]\n",
      " [-1  2  3]]\n",
      "[[ 2 -1]\n",
      " [ 1  2]\n",
      " [ 0  3]]\n",
      "[[ 2 -1]\n",
      " [ 1  2]\n",
      " [ 0  3]]\n",
      "(2, 3) (3, 2)\n"
     ]
    }
   ],
   "source": [
    "print(X)\n",
    "print(X.transpose())\n",
    "print(X.T)\n",
    "print(X.shape, X.T.shape)"
   ]
  },
  {
   "cell_type": "markdown",
   "metadata": {},
   "source": [
    "The transpose is hard to interpret in a natural way, but it does come up often in computations."
   ]
  },
  {
   "cell_type": "markdown",
   "metadata": {},
   "source": [
    "### Vector in Matrix Form\n",
    "A **column vector** is a matrix with $n$ rows and 1 column and to differentiate from a standard matrix $X$ of higher dimensions can be denoted as a bold lower case $\\boldsymbol{x}$\n",
    "\n",
    "$$\n",
    "\\boldsymbol{x} =\n",
    "  \\begin{bmatrix}\n",
    "    x_{1}\\\\\n",
    "    x_{2}\\\\\n",
    "    \\vdots\\\\\n",
    "    x_{n}\n",
    "  \\end{bmatrix}\n",
    "$$"
   ]
  },
  {
   "cell_type": "markdown",
   "metadata": {},
   "source": [
    "In numpy, when create a vector, it will not normally have the second dimension, so we can reshape it:"
   ]
  },
  {
   "cell_type": "code",
   "execution_count": 29,
   "metadata": {},
   "outputs": [
    {
     "name": "stdout",
     "output_type": "stream",
     "text": [
      "x = [1 2 3 4]\n",
      "(4,)\n"
     ]
    }
   ],
   "source": [
    "x = np.array([1,2,3,4])\n",
    "print(\"x = {}\".format(x))\n",
    "print(x.shape)"
   ]
  },
  {
   "cell_type": "code",
   "execution_count": 30,
   "metadata": {},
   "outputs": [
    {
     "name": "stdout",
     "output_type": "stream",
     "text": [
      "y = \n",
      "[[1]\n",
      " [2]\n",
      " [3]\n",
      " [4]]\n",
      "\n",
      "(4, 1)\n"
     ]
    }
   ],
   "source": [
    "y = x.reshape(4, 1)\n",
    "print(\"y = \\n{}\\n\".format(y))\n",
    "print(y.shape)"
   ]
  },
  {
   "cell_type": "markdown",
   "metadata": {},
   "source": [
    "and a row vector is generally written as the transpose\n",
    "\n",
    "$$\\boldsymbol{x}^T = [x_1, x_2, \\ldots, x_n]$$"
   ]
  },
  {
   "cell_type": "code",
   "execution_count": 31,
   "metadata": {},
   "outputs": [
    {
     "name": "stdout",
     "output_type": "stream",
     "text": [
      "[[1 2 3 4]]\n",
      "(1, 4)\n",
      "[1 2 3 4]\n"
     ]
    }
   ],
   "source": [
    "x_T = y.transpose()\n",
    "print(x_T)\n",
    "print(x_T.shape)\n",
    "print(x)"
   ]
  },
  {
   "cell_type": "markdown",
   "metadata": {},
   "source": [
    "If we have two vectors $\\boldsymbol{x}$ and $\\boldsymbol{y}$ of the same length $(n)$, then the _dot product_ is give by matrix multiplication\n",
    "\n",
    "$$\\boldsymbol{x}^T \\boldsymbol{y} =   \n",
    "    \\begin{bmatrix} x_1& x_2 & \\ldots & x_n \\end{bmatrix}\n",
    "    \\begin{bmatrix}\n",
    "    y_{1}\\\\\n",
    "    y_{2}\\\\\n",
    "    \\vdots\\\\\n",
    "    y_{n}\n",
    "  \\end{bmatrix}  =\n",
    "  x_1y_1 + x_2y_2 + \\cdots + x_ny_n$$"
   ]
  },
  {
   "cell_type": "markdown",
   "metadata": {},
   "source": [
    "### The Identity Matrix\n",
    "The identity matrix $I$ is a special matrix with 1's along the diagonal and zeros elsewhere, that when multiplied by another matrix returns the same value.\n",
    "$$X = XI = IX$$"
   ]
  },
  {
   "cell_type": "code",
   "execution_count": 32,
   "metadata": {},
   "outputs": [
    {
     "name": "stdout",
     "output_type": "stream",
     "text": [
      "X = \n",
      "[[1 2 3]\n",
      " [4 5 6]\n",
      " [7 8 9]]\n",
      "\n",
      "I = \n",
      "[[1. 0. 0.]\n",
      " [0. 1. 0.]\n",
      " [0. 0. 1.]]\n"
     ]
    }
   ],
   "source": [
    "X = np.array([[1, 2, 3], [4, 5, 6], [7 ,8 ,9]])\n",
    "I = np.identity(3)\n",
    "print(\"X = \\n{}\\n\".format(X))\n",
    "print(\"I = \\n{}\".format(I))"
   ]
  },
  {
   "cell_type": "code",
   "execution_count": 33,
   "metadata": {},
   "outputs": [
    {
     "name": "stdout",
     "output_type": "stream",
     "text": [
      "XI = \n",
      "[[1. 2. 3.]\n",
      " [4. 5. 6.]\n",
      " [7. 8. 9.]]\n",
      "IX = \n",
      "[[1. 2. 3.]\n",
      " [4. 5. 6.]\n",
      " [7. 8. 9.]]\n"
     ]
    }
   ],
   "source": [
    "print(\"XI = \\n{}\".format(np.dot(X, I)))\n",
    "print\n",
    "print(\"IX = \\n{}\".format(np.dot(I, X)))"
   ]
  },
  {
   "cell_type": "markdown",
   "metadata": {},
   "source": [
    "## Inverse of a Matrix"
   ]
  },
  {
   "cell_type": "markdown",
   "metadata": {},
   "source": [
    "The inverse of a square $n \\times n$ matrix $X$ is an $n \\times n$ matrix $X^{-1}$ such that \n",
    "\n",
    "$$X^{-1}X = XX^{-1} = I$$\n",
    "\n",
    "Where $I$ is the identity matrix. \n",
    "\n",
    "If such a matrix exists, then $X$ is said to be **invertible** or **nonsingular**, otherwise $X$ is said to be **noninvertible** or **singular**."
   ]
  },
  {
   "cell_type": "code",
   "execution_count": 34,
   "metadata": {},
   "outputs": [
    {
     "name": "stdout",
     "output_type": "stream",
     "text": [
      "XY = \n",
      "[[1.00000000e+00 0.00000000e+00 2.77555756e-17]\n",
      " [3.70074342e-17 1.00000000e+00 1.85037171e-17]\n",
      " [0.00000000e+00 0.00000000e+00 1.00000000e+00]]\n"
     ]
    }
   ],
   "source": [
    "X = np.array([[1, 2, 3], [0, 1, 0], [-2, -1, 0]])\n",
    "Y = np.linalg.inv(X)\n",
    "print(\"XY = \\n{}\".format(np.dot(X, Y)))"
   ]
  },
  {
   "cell_type": "markdown",
   "metadata": {},
   "source": [
    "Note that **only square matrices can be invertible**, even then **many square matrices do not have inverses**.\n",
    "\n",
    "It is not too difficult to characterize exactly what matrices have inverses:\n",
    "\n",
    "**A matrix $X$ has an inverse if and only if no column is a linear combination of the rematining columns.** This is summarized by saying that the columns are **linear independent**."
   ]
  },
  {
   "cell_type": "markdown",
   "metadata": {},
   "source": [
    "### Properties of Transpose\n",
    "1. Let $X$ be an $n \\times p$ matrix and $a$ a real number, then \n",
    "$$(cX)^T = cX^T$$\n",
    "2. Let $X$ and $Y$ be $n \\times p$ matrices, then\n",
    "$$(X \\pm Y)^T = X^T \\pm Y^T$$\n",
    "3. Let $X$ be an $n \\times k$ matrix and $Y$ be a $k \\times p$ matrix, then\n",
    "$$(XY)^T = Y^TX^T$$"
   ]
  },
  {
   "cell_type": "markdown",
   "metadata": {},
   "source": [
    "### Additional Properties of Matrices\n",
    "1. **Commutative Addition:** If $X$ and $Y$ are both $n \\times p$ matrices,\n",
    "then $$X+Y = Y+X$$\n",
    "2. **Associative Addition:** If $X$, $Y$, and $Z$ are all $n \\times p$ matrices,\n",
    "then $$X+(Y+Z) = (X+Y)+Z$$\n",
    "3. **Associative Multiplication:** If $X$, $Y$, and $Z$ are all conformable,\n",
    "then $$X(YZ) = (XY)Z$$\n",
    "4. **Distributive Law on Left:** If $X$ is of dimension $n \\times k$ and $Y$ and $Z$ are of dimension $k \\times p$, then $$X(Y+Z) = XY + XZ$$\n",
    "5. **Distributive Law on Right:** If $X$ is of dimension $p \\times n$ and $Y$ and $Z$ are of dimension $k \\times p$, then $$(Y+Z)X = YX + ZX$$\n",
    "6. **Distributive Scalar Multiplication**: If $a$ and $b$ are real numbers, and $X$ is an $n \\times p$ matrix,\n",
    "then $$(a+b)X = aX+bX$$\n",
    "7. **Distributive Scalar Multiplication:** If $a$ is a real number, and $X$ and $Y$ are both $n \\times p$ matrices,\n",
    "then $$a(X+Y) = aX+aY$$\n",
    "8. **I Don't Think This Has A Name:** If $z$ is a real number, and $X$ and $Y$ are conformable, then\n",
    "$$X(aY) = a(XY)$$"
   ]
  },
  {
   "cell_type": "markdown",
   "metadata": {},
   "source": [
    "### Properties of Inverse\n",
    "1. If $X$ is invertible, then $X^{-1}$ is invertible and\n",
    "$$(X^{-1})^{-1} = X$$\n",
    "2. If $X$ and $Y$ are both $n \\times n$ invertible matrices, then $XY$ is invertible and\n",
    "$$(XY)^{-1} = Y^{-1}X^{-1}$$\n",
    "3. If $X$ is invertible, then $X^T$ is invertible and\n",
    "$$(X^T)^{-1} = (X^{-1})^T$$"
   ]
  }
 ],
 "metadata": {
  "jupytext": {
   "formats": "ipynb,py:light"
  },
  "kernelspec": {
   "display_name": "Python 3",
   "language": "python",
   "name": "python3"
  },
  "language_info": {
   "codemirror_mode": {
    "name": "ipython",
    "version": 3
   },
   "file_extension": ".py",
   "mimetype": "text/x-python",
   "name": "python",
   "nbconvert_exporter": "python",
   "pygments_lexer": "ipython3",
   "version": "3.7.6"
  }
 },
 "nbformat": 4,
 "nbformat_minor": 4
}
